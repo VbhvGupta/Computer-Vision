{
  "nbformat": 4,
  "nbformat_minor": 0,
  "metadata": {
    "colab": {
      "name": "2020201040_training_arc.ipynb",
      "provenance": [],
      "collapsed_sections": [
        "3ioDXOPaeSLk",
        "DQQYN4AefK0U",
        "QQjlW4ZIwihy",
        "OO878qbF4qH9",
        "R9cW-llzy5N-",
        "j9UcvJYS3qXW",
        "KD3RcL1qKmqY"
      ],
      "include_colab_link": true
    },
    "kernelspec": {
      "display_name": "Python 3",
      "language": "python",
      "name": "python3"
    },
    "language_info": {
      "codemirror_mode": {
        "name": "ipython",
        "version": 3
      },
      "file_extension": ".py",
      "mimetype": "text/x-python",
      "name": "python",
      "nbconvert_exporter": "python",
      "pygments_lexer": "ipython3",
      "version": "3.8.5"
    }
  },
  "cells": [
    {
      "cell_type": "markdown",
      "metadata": {
        "id": "view-in-github",
        "colab_type": "text"
      },
      "source": [
        "<a href=\"https://colab.research.google.com/github/whynotkush/Computer-Vision/blob/main/CNN_image_classifier.ipynb\" target=\"_parent\"><img src=\"https://colab.research.google.com/assets/colab-badge.svg\" alt=\"Open In Colab\"/></a>"
      ]
    },
    {
      "cell_type": "markdown",
      "metadata": {
        "id": "gUYhBbnneSw-"
      },
      "source": [
        "<h1> <center>Food images Classifier Using CNN </center> </h1>\n",
        "<h2> <center>  Vaibhav Gupta </center> </h2>\n",
        "<h2> <center>  2020201040 </center> </h2>\n"
      ]
    },
    {
      "cell_type": "markdown",
      "metadata": {
        "id": "0H3J2MVK_5TW"
      },
      "source": [
        "## Download Necessary Packages 📚"
      ]
    },
    {
      "cell_type": "code",
      "metadata": {
        "id": "psxJC7EC_5TX"
      },
      "source": [
        "!pip install aicrowd-cli"
      ],
      "execution_count": null,
      "outputs": []
    },
    {
      "cell_type": "code",
      "metadata": {
        "colab": {
          "base_uri": "https://localhost:8080/"
        },
        "id": "yKGVB0LDhLmK",
        "outputId": "10bb0478-c8f5-4ffa-f90d-aa7941e1c35c"
      },
      "source": [
        "from google.colab import drive\n",
        "drive.mount('/content/drive')"
      ],
      "execution_count": null,
      "outputs": [
        {
          "output_type": "stream",
          "text": [
            "Drive already mounted at /content/drive; to attempt to forcibly remount, call drive.mount(\"/content/drive\", force_remount=True).\n"
          ],
          "name": "stdout"
        }
      ]
    },
    {
      "cell_type": "markdown",
      "metadata": {
        "id": "D5L6NxEe_5TZ"
      },
      "source": [
        "## Download Data\n",
        "The first step is to download out train test data. We will be training a model on the train data and make predictions on test data. We submit our predictions.\n"
      ]
    },
    {
      "cell_type": "code",
      "metadata": {
        "colab": {
          "base_uri": "https://localhost:8080/"
        },
        "id": "lyF9gbdx_5TZ",
        "outputId": "d300c751-bb3c-4628-ec66-f89266a3a2b9"
      },
      "source": [
        "API_KEY = \"fd1aed7204268f0bae2780fb808a4063\" #Please enter your API Key from [https://www.aicrowd.com/participants/me]\n",
        "!aicrowd login --api-key $API_KEY"
      ],
      "execution_count": null,
      "outputs": [
        {
          "output_type": "stream",
          "text": [
            "\u001b[32mAPI Key valid\u001b[0m\n",
            "\u001b[32mSaved API Key successfully!\u001b[0m\n"
          ],
          "name": "stdout"
        }
      ]
    },
    {
      "cell_type": "code",
      "metadata": {
        "colab": {
          "base_uri": "https://localhost:8080/"
        },
        "id": "bJjQ1C4OCYgi",
        "outputId": "1f0287ad-3a79-4099-eae2-d182002dc93f"
      },
      "source": [
        "!aicrowd dataset download --challenge chunin-exams-food-track-cv-2021"
      ],
      "execution_count": null,
      "outputs": [
        {
          "output_type": "stream",
          "text": [
            "train_images.zip: 100% 754M/754M [00:19<00:00, 38.3MB/s]\n",
            "test_images.zip: 100% 33.9M/33.9M [00:01<00:00, 26.8MB/s]\n",
            "train.csv: 100% 253k/253k [00:00<00:00, 976kB/s]\n",
            "test.csv: 100% 7.27k/7.27k [00:00<00:00, 829kB/s]\n"
          ],
          "name": "stdout"
        }
      ]
    },
    {
      "cell_type": "code",
      "metadata": {
        "id": "lJG3R4BlCYgj"
      },
      "source": [
        "!mkdir data\n",
        "!mkdir data/test\n",
        "!mkdir data/train\n",
        "!unzip train_images -d data/train\n",
        "!unzip test_images -d data/test"
      ],
      "execution_count": null,
      "outputs": []
    },
    {
      "cell_type": "code",
      "metadata": {
        "id": "jzKzL2CL9w8j"
      },
      "source": [
        "import tensorflow as tf\n",
        "from tensorflow.keras import datasets, layers, models\n",
        "from keras.optimizers import SGD\n",
        "import numpy as np\n",
        "import matplotlib.pyplot as plt"
      ],
      "execution_count": null,
      "outputs": []
    },
    {
      "cell_type": "code",
      "metadata": {
        "id": "hFlezxFuCYgj"
      },
      "source": [
        "import pandas as pd\n",
        "import os"
      ],
      "execution_count": null,
      "outputs": []
    },
    {
      "cell_type": "markdown",
      "metadata": {
        "id": "3hOLZBva7eL9"
      },
      "source": [
        "Reading train.csv"
      ]
    },
    {
      "cell_type": "code",
      "metadata": {
        "id": "J3FDo9_wCYgm"
      },
      "source": [
        "train = pd.read_csv('train.csv')"
      ],
      "execution_count": null,
      "outputs": []
    },
    {
      "cell_type": "code",
      "metadata": {
        "id": "hnu3vUBzZwX-"
      },
      "source": [
        "#shuffle\n",
        "train = train.sample(frac = 1)"
      ],
      "execution_count": null,
      "outputs": []
    },
    {
      "cell_type": "code",
      "metadata": {
        "colab": {
          "base_uri": "https://localhost:8080/",
          "height": 204
        },
        "id": "qSW5en967Ump",
        "outputId": "ac185bee-6f77-4f13-be44-f13e9b9efd95"
      },
      "source": [
        "train.head()"
      ],
      "execution_count": null,
      "outputs": [
        {
          "output_type": "execute_result",
          "data": {
            "text/html": [
              "<div>\n",
              "<style scoped>\n",
              "    .dataframe tbody tr th:only-of-type {\n",
              "        vertical-align: middle;\n",
              "    }\n",
              "\n",
              "    .dataframe tbody tr th {\n",
              "        vertical-align: top;\n",
              "    }\n",
              "\n",
              "    .dataframe thead th {\n",
              "        text-align: right;\n",
              "    }\n",
              "</style>\n",
              "<table border=\"1\" class=\"dataframe\">\n",
              "  <thead>\n",
              "    <tr style=\"text-align: right;\">\n",
              "      <th></th>\n",
              "      <th>ImageId</th>\n",
              "      <th>ClassName</th>\n",
              "    </tr>\n",
              "  </thead>\n",
              "  <tbody>\n",
              "    <tr>\n",
              "      <th>3789</th>\n",
              "      <td>ed9d378e88.jpg</td>\n",
              "      <td>espresso-with-caffeine</td>\n",
              "    </tr>\n",
              "    <tr>\n",
              "      <th>7889</th>\n",
              "      <td>36b7d40e99.jpg</td>\n",
              "      <td>water</td>\n",
              "    </tr>\n",
              "    <tr>\n",
              "      <th>6659</th>\n",
              "      <td>0f1a629e3e.jpg</td>\n",
              "      <td>jam</td>\n",
              "    </tr>\n",
              "    <tr>\n",
              "      <th>1089</th>\n",
              "      <td>ed6f280bae.jpg</td>\n",
              "      <td>bread-sourdough</td>\n",
              "    </tr>\n",
              "    <tr>\n",
              "      <th>4785</th>\n",
              "      <td>be2ceaea89.jpg</td>\n",
              "      <td>soft-cheese</td>\n",
              "    </tr>\n",
              "  </tbody>\n",
              "</table>\n",
              "</div>"
            ],
            "text/plain": [
              "             ImageId               ClassName\n",
              "3789  ed9d378e88.jpg  espresso-with-caffeine\n",
              "7889  36b7d40e99.jpg                   water\n",
              "6659  0f1a629e3e.jpg                     jam\n",
              "1089  ed6f280bae.jpg         bread-sourdough\n",
              "4785  be2ceaea89.jpg             soft-cheese"
            ]
          },
          "metadata": {
            "tags": []
          },
          "execution_count": 16
        }
      ]
    },
    {
      "cell_type": "markdown",
      "metadata": {
        "id": "VJE31gQF7ocJ"
      },
      "source": [
        "Reading test.csv"
      ]
    },
    {
      "cell_type": "code",
      "metadata": {
        "id": "Dy1EbLL87nry"
      },
      "source": [
        "test_csv = pd.read_csv('test.csv')"
      ],
      "execution_count": null,
      "outputs": []
    },
    {
      "cell_type": "code",
      "metadata": {
        "colab": {
          "base_uri": "https://localhost:8080/",
          "height": 80
        },
        "id": "Gd4tK0Wi8AKn",
        "outputId": "89b260b0-0100-41a7-e3cd-b660d957e0b6"
      },
      "source": [
        "test_csv.head(1)"
      ],
      "execution_count": null,
      "outputs": [
        {
          "output_type": "execute_result",
          "data": {
            "text/html": [
              "<div>\n",
              "<style scoped>\n",
              "    .dataframe tbody tr th:only-of-type {\n",
              "        vertical-align: middle;\n",
              "    }\n",
              "\n",
              "    .dataframe tbody tr th {\n",
              "        vertical-align: top;\n",
              "    }\n",
              "\n",
              "    .dataframe thead th {\n",
              "        text-align: right;\n",
              "    }\n",
              "</style>\n",
              "<table border=\"1\" class=\"dataframe\">\n",
              "  <thead>\n",
              "    <tr style=\"text-align: right;\">\n",
              "      <th></th>\n",
              "      <th>ImageId</th>\n",
              "    </tr>\n",
              "  </thead>\n",
              "  <tbody>\n",
              "    <tr>\n",
              "      <th>0</th>\n",
              "      <td>90e63a2fde.jpg</td>\n",
              "    </tr>\n",
              "  </tbody>\n",
              "</table>\n",
              "</div>"
            ],
            "text/plain": [
              "          ImageId\n",
              "0  90e63a2fde.jpg"
            ]
          },
          "metadata": {
            "tags": []
          },
          "execution_count": 18
        }
      ]
    },
    {
      "cell_type": "markdown",
      "metadata": {
        "id": "8HDmw5JP8IXS"
      },
      "source": [
        "Encoding Target labels with sklearn.preprocessing.LabelEncoder"
      ]
    },
    {
      "cell_type": "code",
      "metadata": {
        "id": "3jnP5odF7bh8"
      },
      "source": [
        "from sklearn import preprocessing\n",
        "le = preprocessing.LabelEncoder()"
      ],
      "execution_count": null,
      "outputs": []
    },
    {
      "cell_type": "code",
      "metadata": {
        "id": "qRALl8ZK_RCo"
      },
      "source": [
        "fitted_ = le.fit(train['ClassName'])"
      ],
      "execution_count": null,
      "outputs": []
    },
    {
      "cell_type": "code",
      "metadata": {
        "id": "ODYmNZoJ_bA0"
      },
      "source": [
        "list_of_labels = fitted_.classes_"
      ],
      "execution_count": null,
      "outputs": []
    },
    {
      "cell_type": "code",
      "metadata": {
        "colab": {
          "base_uri": "https://localhost:8080/"
        },
        "id": "pEkrgz74AKHh",
        "outputId": "a0cb8abf-a2ae-4e05-c30a-afb08d85ed5f"
      },
      "source": [
        "list_of_labels"
      ],
      "execution_count": null,
      "outputs": [
        {
          "output_type": "execute_result",
          "data": {
            "text/plain": [
              "array(['almonds', 'apple', 'avocado', 'banana', 'beer', 'biscuits',\n",
              "       'boisson-au-glucose-50g', 'bread-french-white-flour',\n",
              "       'bread-sourdough', 'bread-white', 'bread-whole-wheat',\n",
              "       'bread-wholemeal', 'broccoli', 'butter', 'carrot', 'cheese',\n",
              "       'chicken', 'chips-french-fries', 'coffee-with-caffeine', 'corn',\n",
              "       'croissant', 'cucumber', 'dark-chocolate', 'egg',\n",
              "       'espresso-with-caffeine', 'french-beans', 'gruyere', 'ham-raw',\n",
              "       'hard-cheese', 'honey', 'jam', 'leaf-spinach', 'mandarine',\n",
              "       'mayonnaise', 'mixed-nuts', 'mixed-salad-chopped-without-sauce',\n",
              "       'mixed-vegetables', 'onion', 'parmesan', 'pasta-spaghetti',\n",
              "       'pickle', 'pizza-margherita-baked', 'potatoes-steamed', 'rice',\n",
              "       'salad-leaf-salad-green', 'salami', 'salmon', 'sauce-savoury',\n",
              "       'soft-cheese', 'strawberries', 'sweet-pepper', 'tea', 'tea-green',\n",
              "       'tomato', 'tomato-sauce', 'water', 'water-mineral',\n",
              "       'white-coffee-with-caffeine', 'wine-red', 'wine-white', 'zucchini'],\n",
              "      dtype=object)"
            ]
          },
          "metadata": {
            "tags": []
          },
          "execution_count": 22
        }
      ]
    },
    {
      "cell_type": "code",
      "metadata": {
        "id": "YJqkgsDEAxY5"
      },
      "source": [
        "transformed_lol = le.transform(list_of_labels)"
      ],
      "execution_count": null,
      "outputs": []
    },
    {
      "cell_type": "code",
      "metadata": {
        "colab": {
          "base_uri": "https://localhost:8080/"
        },
        "id": "oKsYvd34A_H8",
        "outputId": "fcf40cdf-9bce-449a-8625-d3291f0580cd"
      },
      "source": [
        "transformed_lol"
      ],
      "execution_count": null,
      "outputs": [
        {
          "output_type": "execute_result",
          "data": {
            "text/plain": [
              "array([ 0,  1,  2,  3,  4,  5,  6,  7,  8,  9, 10, 11, 12, 13, 14, 15, 16,\n",
              "       17, 18, 19, 20, 21, 22, 23, 24, 25, 26, 27, 28, 29, 30, 31, 32, 33,\n",
              "       34, 35, 36, 37, 38, 39, 40, 41, 42, 43, 44, 45, 46, 47, 48, 49, 50,\n",
              "       51, 52, 53, 54, 55, 56, 57, 58, 59, 60])"
            ]
          },
          "metadata": {
            "tags": []
          },
          "execution_count": 24
        }
      ]
    },
    {
      "cell_type": "code",
      "metadata": {
        "colab": {
          "base_uri": "https://localhost:8080/"
        },
        "id": "chOTIFGJBOXV",
        "outputId": "09ff8224-a231-4083-8d35-79704d370349"
      },
      "source": [
        "le.inverse_transform(transformed_lol)"
      ],
      "execution_count": null,
      "outputs": [
        {
          "output_type": "execute_result",
          "data": {
            "text/plain": [
              "array(['almonds', 'apple', 'avocado', 'banana', 'beer', 'biscuits',\n",
              "       'boisson-au-glucose-50g', 'bread-french-white-flour',\n",
              "       'bread-sourdough', 'bread-white', 'bread-whole-wheat',\n",
              "       'bread-wholemeal', 'broccoli', 'butter', 'carrot', 'cheese',\n",
              "       'chicken', 'chips-french-fries', 'coffee-with-caffeine', 'corn',\n",
              "       'croissant', 'cucumber', 'dark-chocolate', 'egg',\n",
              "       'espresso-with-caffeine', 'french-beans', 'gruyere', 'ham-raw',\n",
              "       'hard-cheese', 'honey', 'jam', 'leaf-spinach', 'mandarine',\n",
              "       'mayonnaise', 'mixed-nuts', 'mixed-salad-chopped-without-sauce',\n",
              "       'mixed-vegetables', 'onion', 'parmesan', 'pasta-spaghetti',\n",
              "       'pickle', 'pizza-margherita-baked', 'potatoes-steamed', 'rice',\n",
              "       'salad-leaf-salad-green', 'salami', 'salmon', 'sauce-savoury',\n",
              "       'soft-cheese', 'strawberries', 'sweet-pepper', 'tea', 'tea-green',\n",
              "       'tomato', 'tomato-sauce', 'water', 'water-mineral',\n",
              "       'white-coffee-with-caffeine', 'wine-red', 'wine-white', 'zucchini'],\n",
              "      dtype=object)"
            ]
          },
          "metadata": {
            "tags": []
          },
          "execution_count": 25
        }
      ]
    },
    {
      "cell_type": "code",
      "metadata": {
        "id": "heQtVmSX_PTW"
      },
      "source": [
        "targets = le.fit_transform(train['ClassName'])"
      ],
      "execution_count": null,
      "outputs": []
    },
    {
      "cell_type": "code",
      "metadata": {
        "colab": {
          "base_uri": "https://localhost:8080/"
        },
        "id": "9T3R5I1TBlax",
        "outputId": "89107016-8f22-4ddc-b263-222a05d54d6a"
      },
      "source": [
        "targets"
      ],
      "execution_count": null,
      "outputs": [
        {
          "output_type": "execute_result",
          "data": {
            "text/plain": [
              "array([24, 55, 30, ...,  9, 38, 12])"
            ]
          },
          "metadata": {
            "tags": []
          },
          "execution_count": 27
        }
      ]
    },
    {
      "cell_type": "code",
      "metadata": {
        "id": "ipdxp2L9BelU"
      },
      "source": [
        "ntrain = train.copy()"
      ],
      "execution_count": null,
      "outputs": []
    },
    {
      "cell_type": "code",
      "metadata": {
        "id": "MzVTAM0aDMwu"
      },
      "source": [
        "ntrain['ClassName'] = targets"
      ],
      "execution_count": null,
      "outputs": []
    },
    {
      "cell_type": "code",
      "metadata": {
        "colab": {
          "base_uri": "https://localhost:8080/",
          "height": 204
        },
        "id": "Kb5npTjS7JKL",
        "outputId": "7a22cdc0-f42c-4cf0-d7b1-6bc3fa293fed"
      },
      "source": [
        "ntrain.head()"
      ],
      "execution_count": null,
      "outputs": [
        {
          "output_type": "execute_result",
          "data": {
            "text/html": [
              "<div>\n",
              "<style scoped>\n",
              "    .dataframe tbody tr th:only-of-type {\n",
              "        vertical-align: middle;\n",
              "    }\n",
              "\n",
              "    .dataframe tbody tr th {\n",
              "        vertical-align: top;\n",
              "    }\n",
              "\n",
              "    .dataframe thead th {\n",
              "        text-align: right;\n",
              "    }\n",
              "</style>\n",
              "<table border=\"1\" class=\"dataframe\">\n",
              "  <thead>\n",
              "    <tr style=\"text-align: right;\">\n",
              "      <th></th>\n",
              "      <th>ImageId</th>\n",
              "      <th>ClassName</th>\n",
              "    </tr>\n",
              "  </thead>\n",
              "  <tbody>\n",
              "    <tr>\n",
              "      <th>3789</th>\n",
              "      <td>ed9d378e88.jpg</td>\n",
              "      <td>24</td>\n",
              "    </tr>\n",
              "    <tr>\n",
              "      <th>7889</th>\n",
              "      <td>36b7d40e99.jpg</td>\n",
              "      <td>55</td>\n",
              "    </tr>\n",
              "    <tr>\n",
              "      <th>6659</th>\n",
              "      <td>0f1a629e3e.jpg</td>\n",
              "      <td>30</td>\n",
              "    </tr>\n",
              "    <tr>\n",
              "      <th>1089</th>\n",
              "      <td>ed6f280bae.jpg</td>\n",
              "      <td>8</td>\n",
              "    </tr>\n",
              "    <tr>\n",
              "      <th>4785</th>\n",
              "      <td>be2ceaea89.jpg</td>\n",
              "      <td>48</td>\n",
              "    </tr>\n",
              "  </tbody>\n",
              "</table>\n",
              "</div>"
            ],
            "text/plain": [
              "             ImageId  ClassName\n",
              "3789  ed9d378e88.jpg         24\n",
              "7889  36b7d40e99.jpg         55\n",
              "6659  0f1a629e3e.jpg         30\n",
              "1089  ed6f280bae.jpg          8\n",
              "4785  be2ceaea89.jpg         48"
            ]
          },
          "metadata": {
            "tags": []
          },
          "execution_count": 30
        }
      ]
    },
    {
      "cell_type": "markdown",
      "metadata": {
        "id": "nLvR4PONPsRY"
      },
      "source": [
        "DATALOADER"
      ]
    },
    {
      "cell_type": "code",
      "metadata": {
        "id": "WiXIqRyfKdHr"
      },
      "source": [
        "train_img_lst , train_img_labels ,test_imgs = [],[],[]\n",
        "for i in range(len(ntrain.to_numpy()) ) :\n",
        "  train_img_lst.append('data/train/train_images/' + ntrain['ImageId'][i])\n",
        "  train_img_labels.append(ntrain['ClassName'][i])\n",
        "\n",
        "for i in range(len(test_csv.to_numpy())) :\n",
        "  test_imgs.append('data/test/test_images/'+test_csv['ImageId'][i])"
      ],
      "execution_count": null,
      "outputs": []
    },
    {
      "cell_type": "code",
      "metadata": {
        "colab": {
          "base_uri": "https://localhost:8080/",
          "height": 35
        },
        "id": "j2ferE7kLVXz",
        "outputId": "3ea58bc7-8329-4d11-927a-c3ac7b0cb2b6"
      },
      "source": [
        "train_img_lst[0]"
      ],
      "execution_count": null,
      "outputs": [
        {
          "output_type": "execute_result",
          "data": {
            "application/vnd.google.colaboratory.intrinsic+json": {
              "type": "string"
            },
            "text/plain": [
              "'data/train/train_images/f27632d7e5.jpg'"
            ]
          },
          "metadata": {
            "tags": []
          },
          "execution_count": 32
        }
      ]
    },
    {
      "cell_type": "code",
      "metadata": {
        "colab": {
          "base_uri": "https://localhost:8080/"
        },
        "id": "FINVRBEnNblg",
        "outputId": "0b6cf7d2-dd81-46f6-c195-9174029e7200"
      },
      "source": [
        "train_img_labels[0]"
      ],
      "execution_count": null,
      "outputs": [
        {
          "output_type": "execute_result",
          "data": {
            "text/plain": [
              "55"
            ]
          },
          "metadata": {
            "tags": []
          },
          "execution_count": 33
        }
      ]
    },
    {
      "cell_type": "code",
      "metadata": {
        "colab": {
          "base_uri": "https://localhost:8080/",
          "height": 35
        },
        "id": "ZXe2aWVtOs6i",
        "outputId": "9b41c3a0-bcd2-4890-e6b4-69df7fdb96cb"
      },
      "source": [
        "test_imgs[0]"
      ],
      "execution_count": null,
      "outputs": [
        {
          "output_type": "execute_result",
          "data": {
            "application/vnd.google.colaboratory.intrinsic+json": {
              "type": "string"
            },
            "text/plain": [
              "'data/test/test_images/90e63a2fde.jpg'"
            ]
          },
          "metadata": {
            "tags": []
          },
          "execution_count": 34
        }
      ]
    },
    {
      "cell_type": "markdown",
      "metadata": {
        "id": "Db47u7YVQFLX"
      },
      "source": [
        "Reading images"
      ]
    },
    {
      "cell_type": "code",
      "metadata": {
        "id": "gjHi0lTWQH8N"
      },
      "source": [
        "import cv2\n",
        "def img_read(img_path_list):\n",
        "    resize_img_list = []\n",
        "    for img_path in img_path_list:\n",
        "        img = cv2.imread(img_path)\n",
        "        img = cv2.resize(img, (128, 128)) / 255\n",
        "        resize_img_list.append(img)\n",
        "    return np.array(resize_img_list)"
      ],
      "execution_count": null,
      "outputs": []
    },
    {
      "cell_type": "code",
      "metadata": {
        "id": "bB6iWV8JQXQy"
      },
      "source": [
        "X_train = img_read(train_img_lst)\n",
        "X_test = img_read(test_imgs)"
      ],
      "execution_count": null,
      "outputs": []
    },
    {
      "cell_type": "code",
      "metadata": {
        "id": "e9blaDBvRDCu"
      },
      "source": [
        "y_train = np.array(train_img_labels)"
      ],
      "execution_count": null,
      "outputs": []
    },
    {
      "cell_type": "code",
      "metadata": {
        "colab": {
          "base_uri": "https://localhost:8080/"
        },
        "id": "mh6-Y39_Q8Zp",
        "outputId": "fa7ac841-905f-47fa-e3ad-5e6e2a74e0ae"
      },
      "source": [
        "X_train.shape"
      ],
      "execution_count": null,
      "outputs": [
        {
          "output_type": "execute_result",
          "data": {
            "text/plain": [
              "(9323, 128, 128, 3)"
            ]
          },
          "metadata": {
            "tags": []
          },
          "execution_count": 38
        }
      ]
    },
    {
      "cell_type": "code",
      "metadata": {
        "colab": {
          "base_uri": "https://localhost:8080/"
        },
        "id": "azy0RBW8Q_No",
        "outputId": "d30460f3-6b23-4ff2-d208-60921f9ec8c6"
      },
      "source": [
        "X_test.shape"
      ],
      "execution_count": null,
      "outputs": [
        {
          "output_type": "execute_result",
          "data": {
            "text/plain": [
              "(484, 128, 128, 3)"
            ]
          },
          "metadata": {
            "tags": []
          },
          "execution_count": 39
        }
      ]
    },
    {
      "cell_type": "code",
      "metadata": {
        "colab": {
          "base_uri": "https://localhost:8080/"
        },
        "id": "OSPIvOxtRK3Y",
        "outputId": "2e442614-454d-4389-d18d-f94815f02b70"
      },
      "source": [
        "y_train.shape"
      ],
      "execution_count": null,
      "outputs": [
        {
          "output_type": "execute_result",
          "data": {
            "text/plain": [
              "(9323,)"
            ]
          },
          "metadata": {
            "tags": []
          },
          "execution_count": 40
        }
      ]
    },
    {
      "cell_type": "markdown",
      "metadata": {
        "id": "XBTlVbpYTDMU"
      },
      "source": [
        "### Plot Samples"
      ]
    },
    {
      "cell_type": "code",
      "metadata": {
        "id": "fZuKh_hFTFm8"
      },
      "source": [
        "def plot_sample(X, y, index):\n",
        "    plt.figure(figsize = (15,2))\n",
        "    plt.imshow(X[index])\n",
        "    lbl = le.inverse_transform([y[index]])\n",
        "    plt.xlabel(lbl[0])"
      ],
      "execution_count": null,
      "outputs": []
    },
    {
      "cell_type": "code",
      "metadata": {
        "colab": {
          "base_uri": "https://localhost:8080/",
          "height": 174
        },
        "id": "WfHqJYvzTQY1",
        "outputId": "ab7ba5b5-2027-48ad-c0a0-fe1b0c818df2"
      },
      "source": [
        "plot_sample(X_train , y_train , 1)"
      ],
      "execution_count": null,
      "outputs": [
        {
          "output_type": "display_data",
          "data": {
            "image/png": "[encoded data removed]",
            "text/plain": [
              "<Figure size 1080x144 with 1 Axes>"
            ]
          },
          "metadata": {
            "tags": [],
            "needs_background": "light"
          }
        }
      ]
    },
    {
      "cell_type": "markdown",
      "metadata": {
        "id": "jufkGjMRSmcH"
      },
      "source": [
        "## With Batch Normalisation"
      ]
    },
    {
      "cell_type": "code",
      "metadata": {
        "id": "54WPPGEmCYgm"
      },
      "source": [
        "cnn_wbn = models.Sequential([\n",
        "    #cnn layers\n",
        "    layers.Conv2D(filters = 32, kernel_size = (3, 3), activation = \"relu\",padding = \"same\" ,input_shape = (128, 128, 3)),\n",
        "    layers.BatchNormalization(),\n",
        "    layers.MaxPooling2D((2, 2)),\n",
        "    \n",
        "    layers.Conv2D(filters = 64, kernel_size = (3, 3), activation = \"relu\"),\n",
        "    layers.BatchNormalization(),\n",
        "    layers.MaxPooling2D((2, 2)),\n",
        "    \n",
        "    layers.Conv2D(filters = 128, kernel_size = (3, 3), activation = \"relu\"),\n",
        "    layers.BatchNormalization(),\n",
        "    layers.MaxPooling2D((2, 2)),\n",
        "\n",
        "    #dense layers\n",
        "    layers.Flatten(), \n",
        "    layers.Dense(128, activation = \"relu\"),\n",
        "    layers.Dense(61, activation = \"softmax\")\n",
        "])"
      ],
      "execution_count": null,
      "outputs": []
    },
    {
      "cell_type": "code",
      "metadata": {
        "id": "vIvej-FFR83S"
      },
      "source": [
        "cnn_wbn.compile(loss = \"sparse_categorical_crossentropy\",optimizer = \"adam\", metrics = [\"accuracy\"])"
      ],
      "execution_count": null,
      "outputs": []
    },
    {
      "cell_type": "code",
      "metadata": {
        "colab": {
          "base_uri": "https://localhost:8080/"
        },
        "id": "wh_-WlhmbQKs",
        "outputId": "58a4eaf0-a63e-45a1-ce6c-41682ffbc5b4"
      },
      "source": [
        "from tensorflow.keras.preprocessing.image import ImageDataGenerator\n",
        "datagen = ImageDataGenerator()\n",
        "itr = datagen.flow(X_train, y_train)\n",
        "cnn_wbn.fit_generator(itr, epochs = 4)"
      ],
      "execution_count": null,
      "outputs": [
        {
          "output_type": "stream",
          "text": [
            "/usr/local/lib/python3.7/dist-packages/tensorflow/python/keras/engine/training.py:1844: UserWarning: `Model.fit_generator` is deprecated and will be removed in a future version. Please use `Model.fit`, which supports generators.\n",
            "  warnings.warn('`Model.fit_generator` is deprecated and '\n"
          ],
          "name": "stderr"
        },
        {
          "output_type": "stream",
          "text": [
            "Epoch 1/4\n",
            "292/292 [==============================] - 350s 1s/step - loss: 4.5628 - accuracy: 0.0968\n",
            "Epoch 2/4\n",
            "292/292 [==============================] - 348s 1s/step - loss: 3.6913 - accuracy: 0.1480\n",
            "Epoch 3/4\n",
            "292/292 [==============================] - 349s 1s/step - loss: 3.3290 - accuracy: 0.1851\n",
            "Epoch 4/4\n",
            "292/292 [==============================] - 349s 1s/step - loss: 3.1860 - accuracy: 0.2023\n"
          ],
          "name": "stdout"
        },
        {
          "output_type": "execute_result",
          "data": {
            "text/plain": [
              "<tensorflow.python.keras.callbacks.History at 0x7f950e306dd0>"
            ]
          },
          "metadata": {
            "tags": []
          },
          "execution_count": 45
        }
      ]
    },
    {
      "cell_type": "code",
      "metadata": {
        "id": "lcmldpZRu-PR"
      },
      "source": [
        "y_pred_wbn = cnn_wbn.predict(X_test)"
      ],
      "execution_count": null,
      "outputs": []
    },
    {
      "cell_type": "code",
      "metadata": {
        "id": "XQP05QnjvLm0"
      },
      "source": [
        "y_classes_wbn = [np.argmax(element) for element in y_pred_wbn]"
      ],
      "execution_count": null,
      "outputs": []
    },
    {
      "cell_type": "markdown",
      "metadata": {
        "id": "GcPOpJtSxv_M"
      },
      "source": [
        "Plotting predicted label for test Image 3"
      ]
    },
    {
      "cell_type": "code",
      "metadata": {
        "colab": {
          "base_uri": "https://localhost:8080/",
          "height": 174
        },
        "id": "SDzMhPES0PQZ",
        "outputId": "595497cc-baa9-421b-833a-0c3f967cfb4d"
      },
      "source": [
        "plot_sample(X_test , y_classes_wbn , 3)"
      ],
      "execution_count": null,
      "outputs": [
        {
          "output_type": "display_data",
          "data": {
            "image/png": "[encoded data removed]",
            "text/plain": [
              "<Figure size 1080x144 with 1 Axes>"
            ]
          },
          "metadata": {
            "tags": [],
            "needs_background": "light"
          }
        }
      ]
    },
    {
      "cell_type": "markdown",
      "metadata": {
        "id": "3ioDXOPaeSLk"
      },
      "source": [
        "## Adding New layers"
      ]
    },
    {
      "cell_type": "code",
      "metadata": {
        "id": "TysK-yt-eco0"
      },
      "source": [
        "cnn_new_layers = models.Sequential([\n",
        "    #cnn layers\n",
        "    layers.Conv2D(filters = 32, kernel_size = (3, 3), activation = \"relu\",padding = \"same\" ,input_shape = (128, 128, 3)),\n",
        "    layers.BatchNormalization(),\n",
        "    layers.MaxPooling2D((2, 2)),\n",
        "    \n",
        "    layers.Conv2D(filters = 64, kernel_size = (3, 3), activation = \"relu\"),\n",
        "    layers.BatchNormalization(),\n",
        "    layers.MaxPooling2D((2, 2)),\n",
        "    \n",
        "    layers.Conv2D(filters = 128, kernel_size = (3, 3), activation = \"relu\"),\n",
        "    layers.BatchNormalization(),\n",
        "    layers.MaxPooling2D((2, 2)),\n",
        "\n",
        "    layers.Conv2D(filters = 256, kernel_size = (3, 3), activation = \"relu\"),\n",
        "    layers.BatchNormalization(),\n",
        "    layers.MaxPooling2D((2, 2)),\n",
        "\n",
        "    #dense layers\n",
        "    layers.Flatten(), \n",
        "    layers.Dense(256, activation = \"relu\"),\n",
        "    layers.Dense(61, activation = \"softmax\")\n",
        "])"
      ],
      "execution_count": null,
      "outputs": []
    },
    {
      "cell_type": "code",
      "metadata": {
        "id": "XlDKxH7Eep5B"
      },
      "source": [
        "cnn_new_layers.compile(loss = \"sparse_categorical_crossentropy\",optimizer = \"adam\", metrics = [\"accuracy\"])"
      ],
      "execution_count": null,
      "outputs": []
    },
    {
      "cell_type": "code",
      "metadata": {
        "colab": {
          "base_uri": "https://localhost:8080/"
        },
        "id": "Iu_iHwCueyc0",
        "outputId": "8139a43f-9d43-4a81-9366-960f8d5550a1"
      },
      "source": [
        "from tensorflow.keras.preprocessing.image import ImageDataGenerator\n",
        "datagen = ImageDataGenerator()\n",
        "itr = datagen.flow(X_train, y_train)\n",
        "history_new_layers = cnn_new_layers.fit_generator(itr, epochs = 4)"
      ],
      "execution_count": null,
      "outputs": [
        {
          "output_type": "stream",
          "text": [
            "/usr/local/lib/python3.7/dist-packages/tensorflow/python/keras/engine/training.py:1844: UserWarning: `Model.fit_generator` is deprecated and will be removed in a future version. Please use `Model.fit`, which supports generators.\n",
            "  warnings.warn('`Model.fit_generator` is deprecated and '\n"
          ],
          "name": "stderr"
        },
        {
          "output_type": "stream",
          "text": [
            "Epoch 1/4\n",
            "292/292 [==============================] - 349s 1s/step - loss: 4.1575 - accuracy: 0.1426\n",
            "Epoch 2/4\n",
            "292/292 [==============================] - 362s 1s/step - loss: 3.1598 - accuracy: 0.2159\n",
            "Epoch 3/4\n",
            "292/292 [==============================] - 361s 1s/step - loss: 2.7915 - accuracy: 0.2704\n",
            "Epoch 4/4\n",
            "292/292 [==============================] - 354s 1s/step - loss: 2.5984 - accuracy: 0.3043\n"
          ],
          "name": "stdout"
        }
      ]
    },
    {
      "cell_type": "markdown",
      "metadata": {
        "id": "DQQYN4AefK0U"
      },
      "source": [
        "## With Dropout"
      ]
    },
    {
      "cell_type": "code",
      "metadata": {
        "id": "K-9SHzPKfNXV"
      },
      "source": [
        "cnn_dropout = models.Sequential([\n",
        "    #cnn layers\n",
        "    layers.Conv2D(filters = 32, kernel_size = (3, 3), activation = \"relu\",padding = \"same\" ,input_shape = (128, 128, 3)),\n",
        "    layers.BatchNormalization(),\n",
        "    layers.MaxPooling2D((2, 2)),\n",
        "    layers.Dropout(0.3),\n",
        "    \n",
        "    layers.Conv2D(filters = 64, kernel_size = (3, 3), activation = \"relu\"),\n",
        "    layers.BatchNormalization(),\n",
        "    layers.MaxPooling2D((2, 2)),\n",
        "    layers.Dropout(0.3),\n",
        "    \n",
        "    layers.Conv2D(filters = 128, kernel_size = (3, 3), activation = \"relu\"),\n",
        "    layers.BatchNormalization(),\n",
        "    layers.MaxPooling2D((2, 2)),\n",
        "    layers.Dropout(0.3),\n",
        "\n",
        "    layers.Conv2D(filters = 256, kernel_size = (3, 3), activation = \"relu\"),\n",
        "    layers.BatchNormalization(),\n",
        "    layers.MaxPooling2D((2, 2)),\n",
        "    layers.Dropout(0.3),\n",
        "\n",
        "    #dense layers\n",
        "    layers.Flatten(), \n",
        "    layers.Dense(256, activation = \"relu\"),\n",
        "    layers.Dense(61, activation = \"softmax\")\n",
        "])"
      ],
      "execution_count": null,
      "outputs": []
    },
    {
      "cell_type": "code",
      "metadata": {
        "id": "JIOa7YXalpY9"
      },
      "source": [
        "cnn_dropout.compile(loss = \"sparse_categorical_crossentropy\",optimizer = \"adam\", metrics = [\"accuracy\"])"
      ],
      "execution_count": null,
      "outputs": []
    },
    {
      "cell_type": "code",
      "metadata": {
        "colab": {
          "base_uri": "https://localhost:8080/"
        },
        "id": "2b5TscTIltpd",
        "outputId": "e2f8f0af-47c5-4499-edfd-bc265c62d61b"
      },
      "source": [
        "from tensorflow.keras.preprocessing.image import ImageDataGenerator\n",
        "datagen = ImageDataGenerator()\n",
        "itr = datagen.flow(X_train, y_train)\n",
        "history_dropout = cnn_dropout.fit_generator(itr, epochs = 4)"
      ],
      "execution_count": null,
      "outputs": [
        {
          "output_type": "stream",
          "text": [
            "/usr/local/lib/python3.7/dist-packages/tensorflow/python/keras/engine/training.py:1844: UserWarning: `Model.fit_generator` is deprecated and will be removed in a future version. Please use `Model.fit`, which supports generators.\n",
            "  warnings.warn('`Model.fit_generator` is deprecated and '\n"
          ],
          "name": "stderr"
        },
        {
          "output_type": "stream",
          "text": [
            "Epoch 1/4\n",
            "292/292 [==============================] - 349s 1s/step - loss: 2.3875 - accuracy: 0.3416\n",
            "Epoch 2/4\n",
            "292/292 [==============================] - 347s 1s/step - loss: 2.1339 - accuracy: 0.4024\n",
            "Epoch 3/4\n",
            "292/292 [==============================] - 347s 1s/step - loss: 1.8777 - accuracy: 0.4600\n",
            "Epoch 4/4\n",
            "292/292 [==============================] - 346s 1s/step - loss: 1.5578 - accuracy: 0.5367\n"
          ],
          "name": "stdout"
        }
      ]
    },
    {
      "cell_type": "code",
      "metadata": {
        "id": "x8I3b5cGq3V6"
      },
      "source": [
        "y_pred = cnn_dropout.predict(X_test)"
      ],
      "execution_count": null,
      "outputs": []
    },
    {
      "cell_type": "code",
      "metadata": {
        "id": "HF4dJIKRr3JJ"
      },
      "source": [
        "y_classes = [np.argmax(element) for element in y_pred]"
      ],
      "execution_count": null,
      "outputs": []
    },
    {
      "cell_type": "markdown",
      "metadata": {
        "id": "ly03Vs_g6dl3"
      },
      "source": [
        "Plotting Predicted label for test image 5"
      ]
    },
    {
      "cell_type": "code",
      "metadata": {
        "colab": {
          "base_uri": "https://localhost:8080/",
          "height": 174
        },
        "id": "dXXRpz4SrLFD",
        "outputId": "2b4cce9c-82fd-47bd-9133-179ea8a0ee59"
      },
      "source": [
        "plot_sample(X_test , y_classes , 5)"
      ],
      "execution_count": null,
      "outputs": [
        {
          "output_type": "display_data",
          "data": {
            "image/png": "[encoded data removed]",
            "text/plain": [
              "<Figure size 1080x144 with 1 Axes>"
            ]
          },
          "metadata": {
            "tags": [],
            "needs_background": "light"
          }
        }
      ]
    },
    {
      "cell_type": "markdown",
      "metadata": {
        "id": "P8bfSelml8SH"
      },
      "source": [
        "## Different Activation Functions"
      ]
    },
    {
      "cell_type": "code",
      "metadata": {
        "id": "QisMb3wWmF9z"
      },
      "source": [
        "from tensorflow.keras import activations"
      ],
      "execution_count": null,
      "outputs": []
    },
    {
      "cell_type": "markdown",
      "metadata": {
        "id": "QQjlW4ZIwihy"
      },
      "source": [
        "#### SELU"
      ]
    },
    {
      "cell_type": "code",
      "metadata": {
        "id": "W-8qhfA8v4ho"
      },
      "source": [
        "cnn_selu = models.Sequential([\n",
        "    #cnn layers\n",
        "    layers.Conv2D(filters = 32, kernel_size = (3, 3), activation = \"selu\",padding = \"same\" ,input_shape = (128, 128, 3)),\n",
        "    layers.BatchNormalization(),\n",
        "    layers.MaxPooling2D((2, 2)),\n",
        "    layers.Dropout(0.3),\n",
        "    \n",
        "    layers.Conv2D(filters = 64, kernel_size = (3, 3), activation = \"selu\"),\n",
        "    layers.BatchNormalization(),\n",
        "    layers.MaxPooling2D((2, 2)),\n",
        "    layers.Dropout(0.3),\n",
        "    \n",
        "    layers.Conv2D(filters = 128, kernel_size = (3, 3), activation = \"selu\"),\n",
        "    layers.BatchNormalization(),\n",
        "    layers.MaxPooling2D((2, 2)),\n",
        "    layers.Dropout(0.3),\n",
        "\n",
        "    layers.Conv2D(filters = 256, kernel_size = (3, 3), activation = \"selu\"),\n",
        "    layers.BatchNormalization(),\n",
        "    layers.MaxPooling2D((2, 2)),\n",
        "    layers.Dropout(0.3),\n",
        "\n",
        "    #dense layers\n",
        "    layers.Flatten(), \n",
        "    layers.Dense(256, activation = \"selu\"),\n",
        "    layers.Dense(61, activation = \"softmax\")\n",
        "])"
      ],
      "execution_count": null,
      "outputs": []
    },
    {
      "cell_type": "code",
      "metadata": {
        "id": "IrTXwGSZwuKI"
      },
      "source": [
        "cnn_selu.compile(loss = \"sparse_categorical_crossentropy\",optimizer = \"adam\", metrics = [\"accuracy\"])"
      ],
      "execution_count": null,
      "outputs": []
    },
    {
      "cell_type": "code",
      "metadata": {
        "colab": {
          "base_uri": "https://localhost:8080/"
        },
        "id": "-zwtmyYDwzaj",
        "outputId": "dcd971f7-bc30-4459-f3bd-f5cb0118fa51"
      },
      "source": [
        "from tensorflow.keras.preprocessing.image import ImageDataGenerator\n",
        "datagen = ImageDataGenerator()\n",
        "itr = datagen.flow(X_train, y_train)\n",
        "history_selu = cnn_selu.fit_generator(itr, epochs = 5)"
      ],
      "execution_count": null,
      "outputs": [
        {
          "output_type": "stream",
          "text": [
            "/usr/local/lib/python3.7/dist-packages/tensorflow/python/keras/engine/training.py:1844: UserWarning: `Model.fit_generator` is deprecated and will be removed in a future version. Please use `Model.fit`, which supports generators.\n",
            "  warnings.warn('`Model.fit_generator` is deprecated and '\n"
          ],
          "name": "stderr"
        },
        {
          "output_type": "stream",
          "text": [
            "Epoch 1/5\n",
            "292/292 [==============================] - 400s 1s/step - loss: 5.9129 - accuracy: 0.1166\n",
            "Epoch 2/5\n",
            "292/292 [==============================] - 398s 1s/step - loss: 3.4297 - accuracy: 0.1781\n",
            "Epoch 3/5\n",
            "292/292 [==============================] - 398s 1s/step - loss: 3.1853 - accuracy: 0.2140\n",
            "Epoch 4/5\n",
            "292/292 [==============================] - 397s 1s/step - loss: 2.9892 - accuracy: 0.2406\n",
            "Epoch 5/5\n",
            "292/292 [==============================] - 398s 1s/step - loss: 2.8307 - accuracy: 0.2762\n"
          ],
          "name": "stdout"
        }
      ]
    },
    {
      "cell_type": "code",
      "metadata": {
        "id": "cgifYhu5xGeM"
      },
      "source": [
        "y_pred_selu = cnn_selu.predict(X_test)"
      ],
      "execution_count": null,
      "outputs": []
    },
    {
      "cell_type": "code",
      "metadata": {
        "id": "t4isNKx8xO87"
      },
      "source": [
        "y_classes_selu = [np.argmax(element) for element in y_pred_selu]"
      ],
      "execution_count": null,
      "outputs": []
    },
    {
      "cell_type": "markdown",
      "metadata": {
        "id": "66xfTP7wxlWT"
      },
      "source": [
        "Plotting Predicted for test image 15"
      ]
    },
    {
      "cell_type": "code",
      "metadata": {
        "colab": {
          "base_uri": "https://localhost:8080/",
          "height": 174
        },
        "id": "UobgOEjxxg0a",
        "outputId": "1e51442f-0200-41a6-b9cd-fb37c315e6be"
      },
      "source": [
        "plot_sample(X_test , y_classes_selu , 15)"
      ],
      "execution_count": null,
      "outputs": [
        {
          "output_type": "display_data",
          "data": {
            "image/png": "[encoded data removed]",
            "text/plain": [
              "<Figure size 1080x144 with 1 Axes>"
            ]
          },
          "metadata": {
            "tags": [],
            "needs_background": "light"
          }
        }
      ]
    },
    {
      "cell_type": "markdown",
      "metadata": {
        "id": "OO878qbF4qH9"
      },
      "source": [
        "#### SIGMOID"
      ]
    },
    {
      "cell_type": "code",
      "metadata": {
        "id": "iamgr-pt5AeH"
      },
      "source": [
        "cnn_sigmoid = models.Sequential([\n",
        "    #cnn layers\n",
        "    layers.Conv2D(filters = 32, kernel_size = (3, 3), activation = \"sigmoid\",padding = \"same\" ,input_shape = (128, 128, 3)),\n",
        "    layers.BatchNormalization(),\n",
        "    layers.MaxPooling2D((2, 2)),\n",
        "    layers.Dropout(0.3),\n",
        "    \n",
        "    layers.Conv2D(filters = 64, kernel_size = (3, 3), activation = \"sigmoid\"),\n",
        "    layers.BatchNormalization(),\n",
        "    layers.MaxPooling2D((2, 2)),\n",
        "    layers.Dropout(0.3),\n",
        "    \n",
        "    layers.Conv2D(filters = 128, kernel_size = (3, 3), activation = \"sigmoid\"),\n",
        "    layers.BatchNormalization(),\n",
        "    layers.MaxPooling2D((2, 2)),\n",
        "    layers.Dropout(0.3),\n",
        "\n",
        "    layers.Conv2D(filters = 256, kernel_size = (3, 3), activation = \"sigmoid\"),\n",
        "    layers.BatchNormalization(),\n",
        "    layers.MaxPooling2D((2, 2)),\n",
        "    layers.Dropout(0.3),\n",
        "\n",
        "    #dense layers\n",
        "    layers.Flatten(), \n",
        "    layers.Dense(256, activation = \"sigmoid\"),\n",
        "    layers.Dense(61, activation = \"softmax\")\n",
        "])"
      ],
      "execution_count": null,
      "outputs": []
    },
    {
      "cell_type": "code",
      "metadata": {
        "id": "2STYS8Ug5f15"
      },
      "source": [
        "cnn_sigmoid.compile(loss = \"sparse_categorical_crossentropy\",optimizer = \"adam\", metrics = [\"accuracy\"])"
      ],
      "execution_count": null,
      "outputs": []
    },
    {
      "cell_type": "code",
      "metadata": {
        "colab": {
          "base_uri": "https://localhost:8080/"
        },
        "id": "4oYwuny25lgE",
        "outputId": "eee02bb3-4fac-4eda-f44e-11b520a075da"
      },
      "source": [
        "from tensorflow.keras.preprocessing.image import ImageDataGenerator\n",
        "datagen = ImageDataGenerator()\n",
        "itr = datagen.flow(X_train, y_train)\n",
        "history_sigmoid = cnn_sigmoid.fit_generator(itr, epochs = 5)"
      ],
      "execution_count": null,
      "outputs": [
        {
          "output_type": "stream",
          "text": [
            "/usr/local/lib/python3.7/dist-packages/tensorflow/python/keras/engine/training.py:1844: UserWarning: `Model.fit_generator` is deprecated and will be removed in a future version. Please use `Model.fit`, which supports generators.\n",
            "  warnings.warn('`Model.fit_generator` is deprecated and '\n"
          ],
          "name": "stderr"
        },
        {
          "output_type": "stream",
          "text": [
            "Epoch 1/5\n",
            "292/292 [==============================] - 372s 1s/step - loss: 3.6616 - accuracy: 0.1406\n",
            "Epoch 2/5\n",
            "292/292 [==============================] - 375s 1s/step - loss: 3.1776 - accuracy: 0.2057\n",
            "Epoch 3/5\n",
            "292/292 [==============================] - 374s 1s/step - loss: 2.9917 - accuracy: 0.2399\n",
            "Epoch 4/5\n",
            "292/292 [==============================] - 371s 1s/step - loss: 2.8534 - accuracy: 0.2644\n",
            "Epoch 5/5\n",
            "292/292 [==============================] - 371s 1s/step - loss: 2.7351 - accuracy: 0.2858\n"
          ],
          "name": "stdout"
        }
      ]
    },
    {
      "cell_type": "code",
      "metadata": {
        "id": "OSv076px5900"
      },
      "source": [
        "y_pred_sigmoid = cnn_sigmoid.predict(X_test)"
      ],
      "execution_count": null,
      "outputs": []
    },
    {
      "cell_type": "code",
      "metadata": {
        "id": "v20PjbY76KTM"
      },
      "source": [
        "y_classes_sigmoid = [np.argmax(element) for element in y_pred_sigmoid]"
      ],
      "execution_count": null,
      "outputs": []
    },
    {
      "cell_type": "markdown",
      "metadata": {
        "id": "Riz3rwOl6RqZ"
      },
      "source": [
        "Predicting for test image 25"
      ]
    },
    {
      "cell_type": "code",
      "metadata": {
        "colab": {
          "base_uri": "https://localhost:8080/",
          "height": 174
        },
        "id": "_uUfHX-V6SRD",
        "outputId": "4cf59a0d-dda5-4279-d9dd-f25d7d4e1a81"
      },
      "source": [
        "plot_sample(X_test , y_classes_sigmoid , 25)"
      ],
      "execution_count": null,
      "outputs": [
        {
          "output_type": "display_data",
          "data": {
            "image/png": "[encoded data removed]",
            "text/plain": [
              "<Figure size 1080x144 with 1 Axes>"
            ]
          },
          "metadata": {
            "tags": [],
            "needs_background": "light"
          }
        }
      ]
    },
    {
      "cell_type": "code",
      "metadata": {
        "id": "STZuHFXKCYgw"
      },
      "source": [
        "# Create Submission file        \n",
        "df = pd.DataFrame(le.inverse_transform(preds),columns=['ClassName'])\n",
        "df.to_csv('submission.csv',index=False)"
      ],
      "execution_count": null,
      "outputs": []
    },
    {
      "cell_type": "markdown",
      "metadata": {
        "id": "R9cW-llzy5N-"
      },
      "source": [
        "## Different Pooling Strategy"
      ]
    },
    {
      "cell_type": "markdown",
      "metadata": {
        "id": "qyHOMg7vy-K8"
      },
      "source": [
        "Average Pooling"
      ]
    },
    {
      "cell_type": "code",
      "metadata": {
        "id": "hvGF8fdfy84p"
      },
      "source": [
        "cnn_pooling = models.Sequential([\n",
        "    #cnn layers\n",
        "    layers.Conv2D(filters = 32, kernel_size = (3, 3), activation = \"relu\",padding = \"same\" ,input_shape = (128, 128, 3)),\n",
        "    layers.BatchNormalization(),\n",
        "    layers.AveragePooling2D((2, 2)),\n",
        "    \n",
        "    layers.Conv2D(filters = 64, kernel_size = (3, 3), activation = \"relu\"),\n",
        "    layers.BatchNormalization(),\n",
        "    layers.AveragePooling2D((2, 2)),\n",
        "    \n",
        "    layers.Conv2D(filters = 128, kernel_size = (3, 3), activation = \"relu\"),\n",
        "    layers.BatchNormalization(),\n",
        "    layers.AveragePooling2D((2, 2)),\n",
        "\n",
        "    layers.Conv2D(filters = 256, kernel_size = (3, 3), activation = \"relu\"),\n",
        "    layers.BatchNormalization(),\n",
        "    layers.AveragePooling2D((2, 2)),\n",
        "\n",
        "    #dense layers\n",
        "    layers.Flatten(), \n",
        "    layers.Dense(256, activation = \"relu\"),\n",
        "    layers.Dense(128, activation = \"relu\"),\n",
        "    layers.Dense(61, activation = \"softmax\")\n",
        "])"
      ],
      "execution_count": null,
      "outputs": []
    },
    {
      "cell_type": "code",
      "metadata": {
        "id": "h76DAp3R1RLc"
      },
      "source": [
        "cnn_pooling.compile(loss = \"sparse_categorical_crossentropy\",optimizer = \"adam\", metrics = [\"accuracy\"])"
      ],
      "execution_count": null,
      "outputs": []
    },
    {
      "cell_type": "code",
      "metadata": {
        "colab": {
          "base_uri": "https://localhost:8080/"
        },
        "id": "8yWz0z1S1bKV",
        "outputId": "57bf153f-19e4-431a-cfe5-97c1aa9af45b"
      },
      "source": [
        "from tensorflow.keras.preprocessing.image import ImageDataGenerator\n",
        "datagen = ImageDataGenerator()\n",
        "itr = datagen.flow(X_train, y_train)\n",
        "history_pooling = cnn_pooling.fit_generator(itr, epochs = 4)"
      ],
      "execution_count": null,
      "outputs": [
        {
          "output_type": "stream",
          "text": [
            "/usr/local/lib/python3.7/dist-packages/tensorflow/python/keras/engine/training.py:1844: UserWarning: `Model.fit_generator` is deprecated and will be removed in a future version. Please use `Model.fit`, which supports generators.\n",
            "  warnings.warn('`Model.fit_generator` is deprecated and '\n"
          ],
          "name": "stderr"
        },
        {
          "output_type": "stream",
          "text": [
            "Epoch 1/4\n",
            "292/292 [==============================] - 382s 1s/step - loss: 4.0231 - accuracy: 0.1216\n",
            "Epoch 2/4\n",
            "292/292 [==============================] - 380s 1s/step - loss: 3.3320 - accuracy: 0.1947\n",
            "Epoch 3/4\n",
            "292/292 [==============================] - 380s 1s/step - loss: 3.0610 - accuracy: 0.2319\n",
            "Epoch 4/4\n",
            "292/292 [==============================] - 381s 1s/step - loss: 2.8583 - accuracy: 0.2573\n"
          ],
          "name": "stdout"
        }
      ]
    },
    {
      "cell_type": "code",
      "metadata": {
        "id": "0qhCA9262Bj5"
      },
      "source": [
        "y_pred_pooling = cnn_pooling.predict(X_test)"
      ],
      "execution_count": null,
      "outputs": []
    },
    {
      "cell_type": "code",
      "metadata": {
        "id": "l2AZ5IE02ObX"
      },
      "source": [
        "y_classes_pooling = [np.argmax(element) for element in y_pred_pooling]"
      ],
      "execution_count": null,
      "outputs": []
    },
    {
      "cell_type": "markdown",
      "metadata": {
        "id": "npJnPyPm2YLL"
      },
      "source": [
        "Plotting predicted Label for test image 36"
      ]
    },
    {
      "cell_type": "code",
      "metadata": {
        "colab": {
          "base_uri": "https://localhost:8080/",
          "height": 174
        },
        "id": "w5hm_ddb2dT1",
        "outputId": "baff40e8-0e96-4407-9075-90e35764ae16"
      },
      "source": [
        "plot_sample(X_test , y_classes_wbn , 36)"
      ],
      "execution_count": null,
      "outputs": [
        {
          "output_type": "display_data",
          "data": {
            "image/png": "[encoded data removed]",
            "text/plain": [
              "<Figure size 1080x144 with 1 Axes>"
            ]
          },
          "metadata": {
            "tags": [],
            "needs_background": "light"
          }
        }
      ]
    },
    {
      "cell_type": "markdown",
      "metadata": {
        "id": "1GlsSbqXCLeR"
      },
      "source": [
        "Plotting Epoch vs Accuracy graph"
      ]
    },
    {
      "cell_type": "code",
      "metadata": {
        "colab": {
          "base_uri": "https://localhost:8080/",
          "height": 300
        },
        "id": "7zXCMrbr9GeI",
        "outputId": "d0bcef8e-6d7e-4f66-da86-98108081f09e"
      },
      "source": [
        "import matplotlib.pyplot as plt\n",
        "plt.plot(history_pooling.history['accuracy'], label='accuracy')\n",
        "plt.xlabel('Epoch')\n",
        "plt.ylabel('Accuracy')\n",
        "plt.ylim([0.1, 0.4])\n",
        "plt.legend(loc='upper left')"
      ],
      "execution_count": null,
      "outputs": [
        {
          "output_type": "execute_result",
          "data": {
            "text/plain": [
              "<matplotlib.legend.Legend at 0x7f950552bb90>"
            ]
          },
          "metadata": {
            "tags": []
          },
          "execution_count": 71
        },
        {
          "output_type": "display_data",
          "data": {
            "image/png": "[encoded data removed]",
            "text/plain": [
              "<Figure size 432x288 with 1 Axes>"
            ]
          },
          "metadata": {
            "tags": [],
            "needs_background": "light"
          }
        }
      ]
    },
    {
      "cell_type": "markdown",
      "metadata": {
        "id": "_ZDqYyjxCan8"
      },
      "source": [
        "Creating submission.csv from Predicted y from X_test"
      ]
    },
    {
      "cell_type": "code",
      "metadata": {
        "id": "LAQAcTyN02d-"
      },
      "source": [
        "df = pd.DataFrame(le.inverse_transform(y_classes_pooling),columns=['ClassName'])\n",
        "df.to_csv('submission.csv',index=False)"
      ],
      "execution_count": null,
      "outputs": []
    },
    {
      "cell_type": "markdown",
      "metadata": {
        "id": "W9mXoxPRCkM5"
      },
      "source": [
        "Code for downloading the submission.csv"
      ]
    },
    {
      "cell_type": "code",
      "metadata": {
        "colab": {
          "base_uri": "https://localhost:8080/",
          "height": 17
        },
        "id": "WhSTzz7gCYgw",
        "outputId": "c60cca9e-dbf3-43e0-b752-7f01a53a0e35"
      },
      "source": [
        "from google.colab import files\n",
        "files.download('submission.csv')"
      ],
      "execution_count": null,
      "outputs": [
        {
          "output_type": "display_data",
          "data": {
            "application/javascript": [
              "\n",
              "    async function download(id, filename, size) {\n",
              "      if (!google.colab.kernel.accessAllowed) {\n",
              "        return;\n",
              "      }\n",
              "      const div = document.createElement('div');\n",
              "      const label = document.createElement('label');\n",
              "      label.textContent = `Downloading \"${filename}\": `;\n",
              "      div.appendChild(label);\n",
              "      const progress = document.createElement('progress');\n",
              "      progress.max = size;\n",
              "      div.appendChild(progress);\n",
              "      document.body.appendChild(div);\n",
              "\n",
              "      const buffers = [];\n",
              "      let downloaded = 0;\n",
              "\n",
              "      const channel = await google.colab.kernel.comms.open(id);\n",
              "      // Send a message to notify the kernel that we're ready.\n",
              "      channel.send({})\n",
              "\n",
              "      for await (const message of channel.messages) {\n",
              "        // Send a message to notify the kernel that we're ready.\n",
              "        channel.send({})\n",
              "        if (message.buffers) {\n",
              "          for (const buffer of message.buffers) {\n",
              "            buffers.push(buffer);\n",
              "            downloaded += buffer.byteLength;\n",
              "            progress.value = downloaded;\n",
              "          }\n",
              "        }\n",
              "      }\n",
              "      const blob = new Blob(buffers, {type: 'application/binary'});\n",
              "      const a = document.createElement('a');\n",
              "      a.href = window.URL.createObjectURL(blob);\n",
              "      a.download = filename;\n",
              "      div.appendChild(a);\n",
              "      a.click();\n",
              "      div.remove();\n",
              "    }\n",
              "  "
            ],
            "text/plain": [
              "<IPython.core.display.Javascript object>"
            ]
          },
          "metadata": {
            "tags": []
          }
        },
        {
          "output_type": "display_data",
          "data": {
            "application/javascript": [
              "download(\"download_07f6dac5-ce39-4195-b449-d553e891abff\", \"submission.csv\", 6666)"
            ],
            "text/plain": [
              "<IPython.core.display.Javascript object>"
            ]
          },
          "metadata": {
            "tags": []
          }
        }
      ]
    },
    {
      "cell_type": "markdown",
      "metadata": {
        "id": "j9UcvJYS3qXW"
      },
      "source": [
        "## Different Optimizers"
      ]
    },
    {
      "cell_type": "markdown",
      "metadata": {
        "id": "l4OyrMwS_b59"
      },
      "source": [
        "SGD"
      ]
    },
    {
      "cell_type": "code",
      "metadata": {
        "id": "25FrPbX53vWe"
      },
      "source": [
        "cnn_sgd = models.Sequential([\n",
        "    #cnn layers\n",
        "    layers.Conv2D(filters = 32, kernel_size = (3, 3), activation = \"relu\",padding = \"same\" ,input_shape = (128, 128, 3)),\n",
        "    layers.BatchNormalization(),\n",
        "    layers.AveragePooling2D((2, 2)),\n",
        "    \n",
        "    layers.Conv2D(filters = 64, kernel_size = (3, 3), activation = \"relu\"),\n",
        "    layers.BatchNormalization(),\n",
        "    layers.AveragePooling2D((2, 2)),\n",
        "    \n",
        "    layers.Conv2D(filters = 128, kernel_size = (3, 3), activation = \"relu\"),\n",
        "    layers.BatchNormalization(),\n",
        "    layers.AveragePooling2D((2, 2)),\n",
        "\n",
        "    layers.Conv2D(filters = 256, kernel_size = (3, 3), activation = \"relu\"),\n",
        "    layers.BatchNormalization(),\n",
        "    layers.AveragePooling2D((2, 2)),\n",
        "\n",
        "    #dense layers\n",
        "    layers.Flatten(), \n",
        "    layers.Dense(256, activation = \"relu\"),\n",
        "    layers.Dense(61, activation = \"softmax\")\n",
        "])"
      ],
      "execution_count": null,
      "outputs": []
    },
    {
      "cell_type": "code",
      "metadata": {
        "id": "6HPALjI63_dd"
      },
      "source": [
        "cnn_sgd.compile(loss = \"sparse_categorical_crossentropy\",optimizer = \"sgd\", metrics = [\"accuracy\"])"
      ],
      "execution_count": null,
      "outputs": []
    },
    {
      "cell_type": "code",
      "metadata": {
        "colab": {
          "base_uri": "https://localhost:8080/"
        },
        "id": "JT5XCmtR_isD",
        "outputId": "ee66db21-6ae6-4173-b01f-ae7620d2e487"
      },
      "source": [
        "from tensorflow.keras.preprocessing.image import ImageDataGenerator\n",
        "datagen = ImageDataGenerator()\n",
        "itr = datagen.flow(X_train, y_train)\n",
        "history_sgd = cnn_sgd.fit_generator(itr, epochs = 5)"
      ],
      "execution_count": null,
      "outputs": [
        {
          "output_type": "stream",
          "text": [
            "/usr/local/lib/python3.7/dist-packages/tensorflow/python/keras/engine/training.py:1844: UserWarning: `Model.fit_generator` is deprecated and will be removed in a future version. Please use `Model.fit`, which supports generators.\n",
            "  warnings.warn('`Model.fit_generator` is deprecated and '\n"
          ],
          "name": "stderr"
        },
        {
          "output_type": "stream",
          "text": [
            "Epoch 1/5\n",
            "292/292 [==============================] - 382s 1s/step - loss: 3.7123 - accuracy: 0.1540\n",
            "Epoch 2/5\n",
            "292/292 [==============================] - 382s 1s/step - loss: 2.8025 - accuracy: 0.2812\n",
            "Epoch 3/5\n",
            "292/292 [==============================] - 380s 1s/step - loss: 2.3095 - accuracy: 0.3775\n",
            "Epoch 4/5\n",
            "292/292 [==============================] - 381s 1s/step - loss: 1.8983 - accuracy: 0.4789\n",
            "Epoch 5/5\n",
            "292/292 [==============================] - 381s 1s/step - loss: 1.5646 - accuracy: 0.5727\n"
          ],
          "name": "stdout"
        }
      ]
    },
    {
      "cell_type": "code",
      "metadata": {
        "id": "rxDwp1mMAHdn"
      },
      "source": [
        "y_pred_sgd = cnn_sgd.predict(X_test)"
      ],
      "execution_count": null,
      "outputs": []
    },
    {
      "cell_type": "code",
      "metadata": {
        "id": "C395_MnTASbh"
      },
      "source": [
        "y_classes_sgd = [np.argmax(element) for element in y_pred_sgd]"
      ],
      "execution_count": null,
      "outputs": []
    },
    {
      "cell_type": "markdown",
      "metadata": {
        "id": "WUOaYC6eAd8t"
      },
      "source": [
        "Plotting predicted Label for test image 71"
      ]
    },
    {
      "cell_type": "code",
      "metadata": {
        "colab": {
          "base_uri": "https://localhost:8080/",
          "height": 174
        },
        "id": "03Uo2IFvAgIZ",
        "outputId": "2a49f6f5-5bf7-4044-f43e-1be57de643bf"
      },
      "source": [
        "plot_sample(X_test , y_classes_sgd , 71)"
      ],
      "execution_count": null,
      "outputs": [
        {
          "output_type": "display_data",
          "data": {
            "image/png": "[encoded data removed]",
            "text/plain": [
              "<Figure size 1080x144 with 1 Axes>"
            ]
          },
          "metadata": {
            "tags": [],
            "needs_background": "light"
          }
        }
      ]
    },
    {
      "cell_type": "markdown",
      "metadata": {
        "id": "gD4VrzWvCE7q"
      },
      "source": [
        "Plotting Epoch vs Accuracy graph"
      ]
    },
    {
      "cell_type": "code",
      "metadata": {
        "colab": {
          "base_uri": "https://localhost:8080/",
          "height": 300
        },
        "id": "uREaibByAqL_",
        "outputId": "ac8323af-93ca-4c25-bdeb-6e88f83da190"
      },
      "source": [
        "import matplotlib.pyplot as plt\n",
        "plt.plot(history_sgd.history['accuracy'], label='accuracy')\n",
        "plt.xlabel('Epoch')\n",
        "plt.ylabel('Accuracy')\n",
        "plt.ylim([0.1, 0.7])\n",
        "plt.legend(loc='upper left')"
      ],
      "execution_count": null,
      "outputs": [
        {
          "output_type": "execute_result",
          "data": {
            "text/plain": [
              "<matplotlib.legend.Legend at 0x7f95046f1c10>"
            ]
          },
          "metadata": {
            "tags": []
          },
          "execution_count": 84
        },
        {
          "output_type": "display_data",
          "data": {
            "image/png": "[encoded data removed]",
            "text/plain": [
              "<Figure size 432x288 with 1 Axes>"
            ]
          },
          "metadata": {
            "tags": [],
            "needs_background": "light"
          }
        }
      ]
    },
    {
      "cell_type": "markdown",
      "metadata": {
        "id": "JvC5d_cJCQWO"
      },
      "source": [
        "Creating submission.csv from Predicted y from X_test"
      ]
    },
    {
      "cell_type": "code",
      "metadata": {
        "id": "SgSvRjh0CDZI"
      },
      "source": [
        "df = pd.DataFrame(le.inverse_transform(y_classes_sgd),columns=['ClassName'])\n",
        "df.to_csv('submission.csv',index=False)"
      ],
      "execution_count": null,
      "outputs": []
    },
    {
      "cell_type": "markdown",
      "metadata": {
        "id": "pGv_dFrWCenf"
      },
      "source": [
        "Code for downloading the submission.csv"
      ]
    },
    {
      "cell_type": "code",
      "metadata": {
        "id": "uU8ZjmBcCdzW"
      },
      "source": [
        "from google.colab import files\n",
        "files.download('submission.csv')"
      ],
      "execution_count": null,
      "outputs": []
    },
    {
      "cell_type": "markdown",
      "metadata": {
        "id": "KD3RcL1qKmqY"
      },
      "source": [
        "## Basic Augmentation using ImageDataGenerator"
      ]
    },
    {
      "cell_type": "code",
      "metadata": {
        "id": "_dZKwWfOKynw"
      },
      "source": [
        "cnn_new_ = models.Sequential([\n",
        "    #cnn layers\n",
        "    layers.Conv2D(filters = 32, kernel_size = (3, 3), activation = \"relu\",padding = \"same\" ,input_shape = (128, 128, 3)),\n",
        "    layers.BatchNormalization(),\n",
        "    layers.MaxPooling2D((2, 2)),\n",
        "    \n",
        "    layers.Conv2D(filters = 64, kernel_size = (3, 3), activation = \"relu\"),\n",
        "    layers.BatchNormalization(),\n",
        "    layers.MaxPooling2D((2, 2)),\n",
        "    \n",
        "    layers.Conv2D(filters = 128, kernel_size = (3, 3), activation = \"relu\"),\n",
        "    layers.BatchNormalization(),\n",
        "    layers.MaxPooling2D((2, 2)),\n",
        "\n",
        "    layers.Conv2D(filters = 256, kernel_size = (3, 3), activation = \"relu\"),\n",
        "    layers.BatchNormalization(),\n",
        "    layers.MaxPooling2D((2, 2)),\n",
        "\n",
        "    #dense layers\n",
        "    layers.Flatten(), \n",
        "    layers.Dense(256, activation = \"relu\"),\n",
        "    layers.Dense(61, activation = \"softmax\")\n",
        "])"
      ],
      "execution_count": null,
      "outputs": []
    },
    {
      "cell_type": "code",
      "metadata": {
        "id": "5A8DleoOLm9Z"
      },
      "source": [
        "cnn_new_.compile(loss = \"sparse_categorical_crossentropy\",optimizer = \"adam\", metrics = [\"accuracy\"])"
      ],
      "execution_count": null,
      "outputs": []
    },
    {
      "cell_type": "code",
      "metadata": {
        "colab": {
          "base_uri": "https://localhost:8080/"
        },
        "id": "qiui68wfMF2w",
        "outputId": "d672efe1-7c46-4ec7-94df-5346fc34baad"
      },
      "source": [
        "from tensorflow.keras.preprocessing.image import ImageDataGenerator\n",
        "datagen = ImageDataGenerator()\n",
        "itr = datagen.flow(X_train, y_train)\n",
        "history_new_ = cnn_new_.fit_generator(itr, epochs = 12)"
      ],
      "execution_count": null,
      "outputs": [
        {
          "output_type": "stream",
          "text": [
            "/usr/local/lib/python3.7/dist-packages/tensorflow/python/keras/engine/training.py:1844: UserWarning: `Model.fit_generator` is deprecated and will be removed in a future version. Please use `Model.fit`, which supports generators.\n",
            "  warnings.warn('`Model.fit_generator` is deprecated and '\n"
          ],
          "name": "stderr"
        },
        {
          "output_type": "stream",
          "text": [
            "Epoch 1/12\n",
            "292/292 [==============================] - 405s 1s/step - loss: 4.1579 - accuracy: 0.1418\n",
            "Epoch 2/12\n",
            "292/292 [==============================] - 402s 1s/step - loss: 3.1384 - accuracy: 0.2360\n",
            "Epoch 3/12\n",
            "292/292 [==============================] - 402s 1s/step - loss: 2.8026 - accuracy: 0.2807\n",
            "Epoch 4/12\n",
            "292/292 [==============================] - 403s 1s/step - loss: 2.5832 - accuracy: 0.3120\n",
            "Epoch 5/12\n",
            "292/292 [==============================] - 403s 1s/step - loss: 2.2988 - accuracy: 0.3575\n",
            "Epoch 6/12\n",
            "292/292 [==============================] - 403s 1s/step - loss: 2.0631 - accuracy: 0.4118\n",
            "Epoch 7/12\n",
            "292/292 [==============================] - 403s 1s/step - loss: 1.8476 - accuracy: 0.4597\n",
            "Epoch 8/12\n",
            "292/292 [==============================] - 404s 1s/step - loss: 1.5579 - accuracy: 0.5347\n",
            "Epoch 9/12\n",
            "292/292 [==============================] - 404s 1s/step - loss: 1.2224 - accuracy: 0.6234\n",
            "Epoch 10/12\n",
            "292/292 [==============================] - 405s 1s/step - loss: 0.9029 - accuracy: 0.7208\n",
            "Epoch 11/12\n",
            "292/292 [==============================] - 405s 1s/step - loss: 0.6252 - accuracy: 0.8119\n",
            "Epoch 12/12\n",
            "292/292 [==============================] - 406s 1s/step - loss: 0.4648 - accuracy: 0.8595\n"
          ],
          "name": "stdout"
        }
      ]
    },
    {
      "cell_type": "code",
      "metadata": {
        "id": "DcK1qdEpNHMQ"
      },
      "source": [
        "y_pred_new_ = cnn_new_.predict(X_test)"
      ],
      "execution_count": null,
      "outputs": []
    },
    {
      "cell_type": "code",
      "metadata": {
        "id": "R-Ig4Rh_NH7S"
      },
      "source": [
        "y_classes_new_ = [np.argmax(element) for element in y_pred_new_]"
      ],
      "execution_count": null,
      "outputs": []
    },
    {
      "cell_type": "markdown",
      "metadata": {
        "id": "R7z3xn9ANN6R"
      },
      "source": [
        "Plotting predicted Label for test image 90"
      ]
    },
    {
      "cell_type": "code",
      "metadata": {
        "colab": {
          "base_uri": "https://localhost:8080/",
          "height": 174
        },
        "id": "0sweETKuNUUU",
        "outputId": "91d4b750-5be4-4cce-9429-9b2f206a85d8"
      },
      "source": [
        "plot_sample(X_test , y_classes_new_ , 90)"
      ],
      "execution_count": null,
      "outputs": [
        {
          "output_type": "display_data",
          "data": {
            "image/png": "[encoded data removed]",
            "text/plain": [
              "<Figure size 1080x144 with 1 Axes>"
            ]
          },
          "metadata": {
            "tags": [],
            "needs_background": "light"
          }
        }
      ]
    },
    {
      "cell_type": "markdown",
      "metadata": {
        "id": "6tLNzjk9f-75"
      },
      "source": [
        "Plotting Epoch vs Accuracy graph"
      ]
    },
    {
      "cell_type": "code",
      "metadata": {
        "colab": {
          "base_uri": "https://localhost:8080/",
          "height": 300
        },
        "id": "-TBLa6Awf_RR",
        "outputId": "6a0d44a2-d509-4add-ec34-a6c0c6f4c69f"
      },
      "source": [
        "import matplotlib.pyplot as plt\n",
        "plt.plot(history_new_.history['accuracy'], label='accuracy')\n",
        "plt.xlabel('Epoch')\n",
        "plt.ylabel('Accuracy')\n",
        "plt.ylim([0.1, 1])\n",
        "plt.legend(loc='upper left')"
      ],
      "execution_count": null,
      "outputs": [
        {
          "output_type": "execute_result",
          "data": {
            "text/plain": [
              "<matplotlib.legend.Legend at 0x7f95032d3210>"
            ]
          },
          "metadata": {
            "tags": []
          },
          "execution_count": 97
        },
        {
          "output_type": "display_data",
          "data": {
            "image/png": "[encoded data removed]",
            "text/plain": [
              "<Figure size 432x288 with 1 Axes>"
            ]
          },
          "metadata": {
            "tags": [],
            "needs_background": "light"
          }
        }
      ]
    },
    {
      "cell_type": "markdown",
      "metadata": {
        "id": "8TEZ3r67gkEl"
      },
      "source": [
        "Creating submission.csv from Predicted y from X_test"
      ]
    },
    {
      "cell_type": "code",
      "metadata": {
        "id": "aHvRNZnfgicw"
      },
      "source": [
        "df = pd.DataFrame(le.inverse_transform(y_classes_new_),columns=['ClassName'])\n",
        "df.to_csv('submission.csv',index=False)"
      ],
      "execution_count": null,
      "outputs": []
    },
    {
      "cell_type": "markdown",
      "metadata": {
        "id": "nCoXqMV2g5_H"
      },
      "source": [
        "Code for downloading the submission.csv"
      ]
    },
    {
      "cell_type": "code",
      "metadata": {
        "id": "XEAP3EBWg39i"
      },
      "source": [
        "from google.colab import files\n",
        "files.download('submission.csv')"
      ],
      "execution_count": null,
      "outputs": []
    },
    {
      "cell_type": "markdown",
      "metadata": {
        "id": "EYMzFScDihuv"
      },
      "source": [
        "Summary of the best model"
      ]
    },
    {
      "cell_type": "code",
      "metadata": {
        "colab": {
          "base_uri": "https://localhost:8080/"
        },
        "id": "kL8n6LvlihMk",
        "outputId": "abc869f6-d529-4de8-9687-d553ecdc0f4b"
      },
      "source": [
        "cnn_new_.summary()"
      ],
      "execution_count": null,
      "outputs": [
        {
          "output_type": "stream",
          "text": [
            "Model: \"sequential_4\"\n",
            "_________________________________________________________________\n",
            "Layer (type)                 Output Shape              Param #   \n",
            "=================================================================\n",
            "conv2d_15 (Conv2D)           (None, 128, 128, 32)      896       \n",
            "_________________________________________________________________\n",
            "batch_normalization_15 (Batc (None, 128, 128, 32)      128       \n",
            "_________________________________________________________________\n",
            "max_pooling2d_3 (MaxPooling2 (None, 64, 64, 32)        0         \n",
            "_________________________________________________________________\n",
            "conv2d_16 (Conv2D)           (None, 62, 62, 64)        18496     \n",
            "_________________________________________________________________\n",
            "batch_normalization_16 (Batc (None, 62, 62, 64)        256       \n",
            "_________________________________________________________________\n",
            "max_pooling2d_4 (MaxPooling2 (None, 31, 31, 64)        0         \n",
            "_________________________________________________________________\n",
            "conv2d_17 (Conv2D)           (None, 29, 29, 128)       73856     \n",
            "_________________________________________________________________\n",
            "batch_normalization_17 (Batc (None, 29, 29, 128)       512       \n",
            "_________________________________________________________________\n",
            "max_pooling2d_5 (MaxPooling2 (None, 14, 14, 128)       0         \n",
            "_________________________________________________________________\n",
            "conv2d_18 (Conv2D)           (None, 12, 12, 256)       295168    \n",
            "_________________________________________________________________\n",
            "batch_normalization_18 (Batc (None, 12, 12, 256)       1024      \n",
            "_________________________________________________________________\n",
            "max_pooling2d_6 (MaxPooling2 (None, 6, 6, 256)         0         \n",
            "_________________________________________________________________\n",
            "flatten_4 (Flatten)          (None, 9216)              0         \n",
            "_________________________________________________________________\n",
            "dense_9 (Dense)              (None, 256)               2359552   \n",
            "_________________________________________________________________\n",
            "dense_10 (Dense)             (None, 61)                15677     \n",
            "=================================================================\n",
            "Total params: 2,765,565\n",
            "Trainable params: 2,764,605\n",
            "Non-trainable params: 960\n",
            "_________________________________________________________________\n"
          ],
          "name": "stdout"
        }
      ]
    },
    {
      "cell_type": "markdown",
      "metadata": {
        "id": "N8Jcq0r4ivQ8"
      },
      "source": [
        "Saving the best model"
      ]
    },
    {
      "cell_type": "code",
      "metadata": {
        "colab": {
          "base_uri": "https://localhost:8080/"
        },
        "id": "2xCBUAUPi1ZQ",
        "outputId": "5c5d2c9f-b290-45ad-b05f-0b77af9192f0"
      },
      "source": [
        "cnn_new_.save('/content/drive/MyDrive/CV')"
      ],
      "execution_count": null,
      "outputs": [
        {
          "output_type": "stream",
          "text": [
            "INFO:tensorflow:Assets written to: /content/drive/MyDrive/CV/assets\n"
          ],
          "name": "stdout"
        }
      ]
    },
    {
      "cell_type": "markdown",
      "metadata": {
        "id": "5IX79Ffa_5Te"
      },
      "source": [
        "## Making Direct Submission thought Aicrowd CLI"
      ]
    },
    {
      "cell_type": "code",
      "metadata": {
        "colab": {
          "base_uri": "https://localhost:8080/"
        },
        "id": "-j1W9w4t_5Te",
        "outputId": "2c67d209-b70e-4473-adef-9cf4af5a3924"
      },
      "source": [
        "!aicrowd submission create -c chunin-exams-food-track-cv-2021 -f submission.csv"
      ],
      "execution_count": null,
      "outputs": [
        {
          "output_type": "stream",
          "text": [
            "\u001b[2K\u001b[1;34msubmission.csv\u001b[0m \u001b[90m━━━━━━━━━━━━━━━━━━━━━━━━━━━━━━━\u001b[0m \u001b[35m100.0%\u001b[0m • \u001b[32m7.7/6.1 KB\u001b[0m • \u001b[31m?\u001b[0m • \u001b[36m0:00:00\u001b[0m\n",
            "\u001b[?25h                                               ╭─────────────────────────╮                                               \n",
            "                                               │ \u001b[1mSuccessfully submitted!\u001b[0m │                                               \n",
            "                                               ╰─────────────────────────╯                                               \n",
            "\u001b[3m                                                     Important links                                                     \u001b[0m\n",
            "┌──────────────────┬────────────────────────────────────────────────────────────────────────────────────────────────────┐\n",
            "│  This submission │ https://www.aicrowd.com/challenges/chunin-exams-food-track-cv-2021/submissions/131078              │\n",
            "│                  │                                                                                                    │\n",
            "│  All submissions │ https://www.aicrowd.com/challenges/chunin-exams-food-track-cv-2021/submissions?my_submissions=true │\n",
            "│                  │                                                                                                    │\n",
            "│      Leaderboard │ https://www.aicrowd.com/challenges/chunin-exams-food-track-cv-2021/leaderboards                    │\n",
            "│                  │                                                                                                    │\n",
            "│ Discussion forum │ https://discourse.aicrowd.com/c/chunin-exams-food-track-cv-2021                                    │\n",
            "│                  │                                                                                                    │\n",
            "│   Challenge page │ https://www.aicrowd.com/challenges/chunin-exams-food-track-cv-2021                                 │\n",
            "└──────────────────┴────────────────────────────────────────────────────────────────────────────────────────────────────┘\n",
            "{'submission_id': 131078, 'created_at': '2021-04-18T10:26:01.571Z'}\n"
          ],
          "name": "stdout"
        }
      ]
    }
  ]
}