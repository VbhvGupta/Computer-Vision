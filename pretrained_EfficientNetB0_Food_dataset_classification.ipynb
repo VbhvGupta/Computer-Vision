{
  "nbformat": 4,
  "nbformat_minor": 0,
  "metadata": {
    "colab": {
      "name": "2020201040_tournament_arc.ipynb",
      "provenance": [],
      "collapsed_sections": [],
      "toc_visible": true,
      "include_colab_link": true
    },
    "kernelspec": {
      "display_name": "Python 3",
      "language": "python",
      "name": "python3"
    },
    "language_info": {
      "codemirror_mode": {
        "name": "ipython",
        "version": 3
      },
      "file_extension": ".py",
      "mimetype": "text/x-python",
      "name": "python",
      "nbconvert_exporter": "python",
      "pygments_lexer": "ipython3",
      "version": "3.8.5"
    }
  },
  "cells": [
    {
      "cell_type": "markdown",
      "metadata": {
        "id": "view-in-github",
        "colab_type": "text"
      },
      "source": [
        "<a href=\"https://colab.research.google.com/github/whynotkush/Computer-Vision/blob/main/pretrained_EfficientNetB0_Food_dataset_classification.ipynb\" target=\"_parent\"><img src=\"https://colab.research.google.com/assets/colab-badge.svg\" alt=\"Open In Colab\"/></a>"
      ]
    },
    {
      "cell_type": "markdown",
      "metadata": {
        "id": "yghD-G1chZ9I"
      },
      "source": [
        "<h1> <center> Vaibhav Gupta </center> </h1>\n",
        "<h1> <center> 2020201040 </center> </h1>"
      ]
    },
    {
      "cell_type": "markdown",
      "metadata": {
        "id": "0H3J2MVK_5TW"
      },
      "source": [
        "## Download Necessary Packages 📚"
      ]
    },
    {
      "cell_type": "code",
      "metadata": {
        "id": "psxJC7EC_5TX"
      },
      "source": [
        "!pip install aicrowd-cli"
      ],
      "execution_count": null,
      "outputs": []
    },
    {
      "cell_type": "code",
      "metadata": {
        "colab": {
          "base_uri": "https://localhost:8080/"
        },
        "id": "yKGVB0LDhLmK",
        "outputId": "6ca4a86e-448a-48f2-bb26-9ecea57f38fe"
      },
      "source": [
        "from google.colab import drive\n",
        "drive.mount('/content/drive')"
      ],
      "execution_count": null,
      "outputs": [
        {
          "output_type": "stream",
          "text": [
            "Mounted at /content/drive\n"
          ],
          "name": "stdout"
        }
      ]
    },
    {
      "cell_type": "markdown",
      "metadata": {
        "id": "D5L6NxEe_5TZ"
      },
      "source": [
        "## Download Data\n",
        "The first step is to download out train test data. We will be training a model on the train data and make predictions on test data. We submit our predictions.\n"
      ]
    },
    {
      "cell_type": "code",
      "metadata": {
        "colab": {
          "base_uri": "https://localhost:8080/"
        },
        "id": "lyF9gbdx_5TZ",
        "outputId": "2f50d32b-4c81-44d0-dfab-ba9246666653"
      },
      "source": [
        "API_KEY = \"fd1aed7204268f0bae2780fb808a4063\" #Please enter your API Key from [https://www.aicrowd.com/participants/me]\n",
        "!aicrowd login --api-key $API_KEY"
      ],
      "execution_count": null,
      "outputs": [
        {
          "output_type": "stream",
          "text": [
            "\u001b[32mAPI Key valid\u001b[0m\n",
            "\u001b[32mSaved API Key successfully!\u001b[0m\n"
          ],
          "name": "stdout"
        }
      ]
    },
    {
      "cell_type": "code",
      "metadata": {
        "colab": {
          "base_uri": "https://localhost:8080/"
        },
        "id": "bJjQ1C4OCYgi",
        "outputId": "2e3dfe39-1e6c-4caf-97fc-53f9329b7128"
      },
      "source": [
        "!aicrowd dataset download --challenge chunin-exams-food-track-cv-2021"
      ],
      "execution_count": null,
      "outputs": [
        {
          "output_type": "stream",
          "text": [
            "train_images.zip: 100% 754M/754M [00:07<00:00, 98.9MB/s]\n",
            "test_images.zip: 100% 33.9M/33.9M [00:00<00:00, 81.3MB/s]\n",
            "train.csv: 100% 253k/253k [00:00<00:00, 3.68MB/s]\n",
            "test.csv: 100% 7.27k/7.27k [00:00<00:00, 851kB/s]\n"
          ],
          "name": "stdout"
        }
      ]
    },
    {
      "cell_type": "markdown",
      "metadata": {
        "id": "099TZAU4hs-o"
      },
      "source": [
        "Unzip the data into folders"
      ]
    },
    {
      "cell_type": "code",
      "metadata": {
        "id": "lJG3R4BlCYgj"
      },
      "source": [
        "!mkdir data\n",
        "!mkdir data/test\n",
        "!mkdir data/train\n",
        "!unzip train_images -d data/train\n",
        "!unzip test_images -d data/test"
      ],
      "execution_count": null,
      "outputs": []
    },
    {
      "cell_type": "code",
      "metadata": {
        "id": "jzKzL2CL9w8j"
      },
      "source": [
        "import tensorflow as tf\n",
        "from tensorflow.keras import datasets, layers, models\n",
        "from keras.optimizers import SGD\n",
        "import numpy as np\n",
        "import matplotlib.pyplot as plt"
      ],
      "execution_count": null,
      "outputs": []
    },
    {
      "cell_type": "code",
      "metadata": {
        "id": "hFlezxFuCYgj"
      },
      "source": [
        "import pandas as pd\n",
        "import os"
      ],
      "execution_count": null,
      "outputs": []
    },
    {
      "cell_type": "markdown",
      "metadata": {
        "id": "3hOLZBva7eL9"
      },
      "source": [
        "Reading train.csv"
      ]
    },
    {
      "cell_type": "code",
      "metadata": {
        "id": "J3FDo9_wCYgm"
      },
      "source": [
        "train = pd.read_csv('train.csv')"
      ],
      "execution_count": null,
      "outputs": []
    },
    {
      "cell_type": "code",
      "metadata": {
        "id": "hnu3vUBzZwX-"
      },
      "source": [
        "train = train.sample(frac = 1)"
      ],
      "execution_count": null,
      "outputs": []
    },
    {
      "cell_type": "code",
      "metadata": {
        "colab": {
          "base_uri": "https://localhost:8080/",
          "height": 204
        },
        "id": "qSW5en967Ump",
        "outputId": "93a4d74b-e8e6-4f8e-83ee-67f98b5a56b5"
      },
      "source": [
        "train.head()"
      ],
      "execution_count": null,
      "outputs": [
        {
          "output_type": "execute_result",
          "data": {
            "text/html": [
              "<div>\n",
              "<style scoped>\n",
              "    .dataframe tbody tr th:only-of-type {\n",
              "        vertical-align: middle;\n",
              "    }\n",
              "\n",
              "    .dataframe tbody tr th {\n",
              "        vertical-align: top;\n",
              "    }\n",
              "\n",
              "    .dataframe thead th {\n",
              "        text-align: right;\n",
              "    }\n",
              "</style>\n",
              "<table border=\"1\" class=\"dataframe\">\n",
              "  <thead>\n",
              "    <tr style=\"text-align: right;\">\n",
              "      <th></th>\n",
              "      <th>ImageId</th>\n",
              "      <th>ClassName</th>\n",
              "    </tr>\n",
              "  </thead>\n",
              "  <tbody>\n",
              "    <tr>\n",
              "      <th>426</th>\n",
              "      <td>953395f7bf.jpg</td>\n",
              "      <td>hard-cheese</td>\n",
              "    </tr>\n",
              "    <tr>\n",
              "      <th>5875</th>\n",
              "      <td>922cec919a.jpg</td>\n",
              "      <td>tomato-sauce</td>\n",
              "    </tr>\n",
              "    <tr>\n",
              "      <th>6801</th>\n",
              "      <td>5bd4c627f0.jpg</td>\n",
              "      <td>wine-white</td>\n",
              "    </tr>\n",
              "    <tr>\n",
              "      <th>5039</th>\n",
              "      <td>1f999a132b.jpg</td>\n",
              "      <td>croissant</td>\n",
              "    </tr>\n",
              "    <tr>\n",
              "      <th>6955</th>\n",
              "      <td>b3750e65a0.jpg</td>\n",
              "      <td>rice</td>\n",
              "    </tr>\n",
              "  </tbody>\n",
              "</table>\n",
              "</div>"
            ],
            "text/plain": [
              "             ImageId     ClassName\n",
              "426   953395f7bf.jpg   hard-cheese\n",
              "5875  922cec919a.jpg  tomato-sauce\n",
              "6801  5bd4c627f0.jpg    wine-white\n",
              "5039  1f999a132b.jpg     croissant\n",
              "6955  b3750e65a0.jpg          rice"
            ]
          },
          "metadata": {
            "tags": []
          },
          "execution_count": 6
        }
      ]
    },
    {
      "cell_type": "markdown",
      "metadata": {
        "id": "VJE31gQF7ocJ"
      },
      "source": [
        "Reading test.csv"
      ]
    },
    {
      "cell_type": "code",
      "metadata": {
        "id": "Dy1EbLL87nry"
      },
      "source": [
        "test_csv = pd.read_csv('test.csv')"
      ],
      "execution_count": null,
      "outputs": []
    },
    {
      "cell_type": "code",
      "metadata": {
        "colab": {
          "base_uri": "https://localhost:8080/",
          "height": 204
        },
        "id": "Gd4tK0Wi8AKn",
        "outputId": "0d6a4121-73ef-4257-d5e8-eef095dffc71"
      },
      "source": [
        "test_csv.head()"
      ],
      "execution_count": null,
      "outputs": [
        {
          "output_type": "execute_result",
          "data": {
            "text/html": [
              "<div>\n",
              "<style scoped>\n",
              "    .dataframe tbody tr th:only-of-type {\n",
              "        vertical-align: middle;\n",
              "    }\n",
              "\n",
              "    .dataframe tbody tr th {\n",
              "        vertical-align: top;\n",
              "    }\n",
              "\n",
              "    .dataframe thead th {\n",
              "        text-align: right;\n",
              "    }\n",
              "</style>\n",
              "<table border=\"1\" class=\"dataframe\">\n",
              "  <thead>\n",
              "    <tr style=\"text-align: right;\">\n",
              "      <th></th>\n",
              "      <th>ImageId</th>\n",
              "    </tr>\n",
              "  </thead>\n",
              "  <tbody>\n",
              "    <tr>\n",
              "      <th>0</th>\n",
              "      <td>90e63a2fde.jpg</td>\n",
              "    </tr>\n",
              "    <tr>\n",
              "      <th>1</th>\n",
              "      <td>a554d1ca8d.jpg</td>\n",
              "    </tr>\n",
              "    <tr>\n",
              "      <th>2</th>\n",
              "      <td>48317e8ee8.jpg</td>\n",
              "    </tr>\n",
              "    <tr>\n",
              "      <th>3</th>\n",
              "      <td>79528df667.jpg</td>\n",
              "    </tr>\n",
              "    <tr>\n",
              "      <th>4</th>\n",
              "      <td>6d2f2f63f5.jpg</td>\n",
              "    </tr>\n",
              "  </tbody>\n",
              "</table>\n",
              "</div>"
            ],
            "text/plain": [
              "          ImageId\n",
              "0  90e63a2fde.jpg\n",
              "1  a554d1ca8d.jpg\n",
              "2  48317e8ee8.jpg\n",
              "3  79528df667.jpg\n",
              "4  6d2f2f63f5.jpg"
            ]
          },
          "metadata": {
            "tags": []
          },
          "execution_count": 8
        }
      ]
    },
    {
      "cell_type": "markdown",
      "metadata": {
        "id": "8HDmw5JP8IXS"
      },
      "source": [
        "Encoding Target labels with sklearn.preprocessing.LabelEncoder"
      ]
    },
    {
      "cell_type": "code",
      "metadata": {
        "id": "3jnP5odF7bh8"
      },
      "source": [
        "from sklearn import preprocessing\n",
        "le = preprocessing.LabelEncoder()"
      ],
      "execution_count": null,
      "outputs": []
    },
    {
      "cell_type": "code",
      "metadata": {
        "id": "qRALl8ZK_RCo"
      },
      "source": [
        "fitted_ = le.fit(train['ClassName'])"
      ],
      "execution_count": null,
      "outputs": []
    },
    {
      "cell_type": "code",
      "metadata": {
        "id": "ODYmNZoJ_bA0"
      },
      "source": [
        "list_of_labels = fitted_.classes_"
      ],
      "execution_count": null,
      "outputs": []
    },
    {
      "cell_type": "markdown",
      "metadata": {
        "id": "OJfFKpfLh01-"
      },
      "source": [
        "List of All unique labels "
      ]
    },
    {
      "cell_type": "code",
      "metadata": {
        "colab": {
          "base_uri": "https://localhost:8080/"
        },
        "id": "pEkrgz74AKHh",
        "outputId": "d8f5f6b6-fd28-4563-d3ec-7b5368a21759"
      },
      "source": [
        "list_of_labels"
      ],
      "execution_count": null,
      "outputs": [
        {
          "output_type": "execute_result",
          "data": {
            "text/plain": [
              "array(['almonds', 'apple', 'avocado', 'banana', 'beer', 'biscuits',\n",
              "       'boisson-au-glucose-50g', 'bread-french-white-flour',\n",
              "       'bread-sourdough', 'bread-white', 'bread-whole-wheat',\n",
              "       'bread-wholemeal', 'broccoli', 'butter', 'carrot', 'cheese',\n",
              "       'chicken', 'chips-french-fries', 'coffee-with-caffeine', 'corn',\n",
              "       'croissant', 'cucumber', 'dark-chocolate', 'egg',\n",
              "       'espresso-with-caffeine', 'french-beans', 'gruyere', 'ham-raw',\n",
              "       'hard-cheese', 'honey', 'jam', 'leaf-spinach', 'mandarine',\n",
              "       'mayonnaise', 'mixed-nuts', 'mixed-salad-chopped-without-sauce',\n",
              "       'mixed-vegetables', 'onion', 'parmesan', 'pasta-spaghetti',\n",
              "       'pickle', 'pizza-margherita-baked', 'potatoes-steamed', 'rice',\n",
              "       'salad-leaf-salad-green', 'salami', 'salmon', 'sauce-savoury',\n",
              "       'soft-cheese', 'strawberries', 'sweet-pepper', 'tea', 'tea-green',\n",
              "       'tomato', 'tomato-sauce', 'water', 'water-mineral',\n",
              "       'white-coffee-with-caffeine', 'wine-red', 'wine-white', 'zucchini'],\n",
              "      dtype=object)"
            ]
          },
          "metadata": {
            "tags": []
          },
          "execution_count": 12
        }
      ]
    },
    {
      "cell_type": "code",
      "metadata": {
        "id": "YJqkgsDEAxY5"
      },
      "source": [
        "transformed_lol = le.transform(list_of_labels)"
      ],
      "execution_count": null,
      "outputs": []
    },
    {
      "cell_type": "markdown",
      "metadata": {
        "id": "gJBb1_b-h4Z1"
      },
      "source": [
        "Transformed labels using LabelEncoder()"
      ]
    },
    {
      "cell_type": "code",
      "metadata": {
        "colab": {
          "base_uri": "https://localhost:8080/"
        },
        "id": "oKsYvd34A_H8",
        "outputId": "e0ecd072-667b-42b1-86c6-4aa6b03a0bed"
      },
      "source": [
        "transformed_lol"
      ],
      "execution_count": null,
      "outputs": [
        {
          "output_type": "execute_result",
          "data": {
            "text/plain": [
              "array([ 0,  1,  2,  3,  4,  5,  6,  7,  8,  9, 10, 11, 12, 13, 14, 15, 16,\n",
              "       17, 18, 19, 20, 21, 22, 23, 24, 25, 26, 27, 28, 29, 30, 31, 32, 33,\n",
              "       34, 35, 36, 37, 38, 39, 40, 41, 42, 43, 44, 45, 46, 47, 48, 49, 50,\n",
              "       51, 52, 53, 54, 55, 56, 57, 58, 59, 60])"
            ]
          },
          "metadata": {
            "tags": []
          },
          "execution_count": 14
        }
      ]
    },
    {
      "cell_type": "code",
      "metadata": {
        "colab": {
          "base_uri": "https://localhost:8080/"
        },
        "id": "chOTIFGJBOXV",
        "outputId": "07b347f5-b3be-404c-df23-676608478235"
      },
      "source": [
        "le.inverse_transform(transformed_lol)"
      ],
      "execution_count": null,
      "outputs": [
        {
          "output_type": "execute_result",
          "data": {
            "text/plain": [
              "array(['almonds', 'apple', 'avocado', 'banana', 'beer', 'biscuits',\n",
              "       'boisson-au-glucose-50g', 'bread-french-white-flour',\n",
              "       'bread-sourdough', 'bread-white', 'bread-whole-wheat',\n",
              "       'bread-wholemeal', 'broccoli', 'butter', 'carrot', 'cheese',\n",
              "       'chicken', 'chips-french-fries', 'coffee-with-caffeine', 'corn',\n",
              "       'croissant', 'cucumber', 'dark-chocolate', 'egg',\n",
              "       'espresso-with-caffeine', 'french-beans', 'gruyere', 'ham-raw',\n",
              "       'hard-cheese', 'honey', 'jam', 'leaf-spinach', 'mandarine',\n",
              "       'mayonnaise', 'mixed-nuts', 'mixed-salad-chopped-without-sauce',\n",
              "       'mixed-vegetables', 'onion', 'parmesan', 'pasta-spaghetti',\n",
              "       'pickle', 'pizza-margherita-baked', 'potatoes-steamed', 'rice',\n",
              "       'salad-leaf-salad-green', 'salami', 'salmon', 'sauce-savoury',\n",
              "       'soft-cheese', 'strawberries', 'sweet-pepper', 'tea', 'tea-green',\n",
              "       'tomato', 'tomato-sauce', 'water', 'water-mineral',\n",
              "       'white-coffee-with-caffeine', 'wine-red', 'wine-white', 'zucchini'],\n",
              "      dtype=object)"
            ]
          },
          "metadata": {
            "tags": []
          },
          "execution_count": 15
        }
      ]
    },
    {
      "cell_type": "code",
      "metadata": {
        "id": "heQtVmSX_PTW"
      },
      "source": [
        "targets = le.fit_transform(train['ClassName'])"
      ],
      "execution_count": null,
      "outputs": []
    },
    {
      "cell_type": "code",
      "metadata": {
        "colab": {
          "base_uri": "https://localhost:8080/"
        },
        "id": "9T3R5I1TBlax",
        "outputId": "f4ad2ff8-2013-430f-f4f5-0463742f2151"
      },
      "source": [
        "targets"
      ],
      "execution_count": null,
      "outputs": [
        {
          "output_type": "execute_result",
          "data": {
            "text/plain": [
              "array([28, 54, 59, ..., 58, 47, 38])"
            ]
          },
          "metadata": {
            "tags": []
          },
          "execution_count": 17
        }
      ]
    },
    {
      "cell_type": "code",
      "metadata": {
        "id": "ipdxp2L9BelU"
      },
      "source": [
        "ntrain = train.copy()"
      ],
      "execution_count": null,
      "outputs": []
    },
    {
      "cell_type": "code",
      "metadata": {
        "id": "MzVTAM0aDMwu"
      },
      "source": [
        "ntrain['ClassName'] = targets"
      ],
      "execution_count": null,
      "outputs": []
    },
    {
      "cell_type": "code",
      "metadata": {
        "colab": {
          "base_uri": "https://localhost:8080/",
          "height": 204
        },
        "id": "Kb5npTjS7JKL",
        "outputId": "4467432f-1ec5-43a2-ba07-4afb28aa95e9"
      },
      "source": [
        "ntrain.head()"
      ],
      "execution_count": null,
      "outputs": [
        {
          "output_type": "execute_result",
          "data": {
            "text/html": [
              "<div>\n",
              "<style scoped>\n",
              "    .dataframe tbody tr th:only-of-type {\n",
              "        vertical-align: middle;\n",
              "    }\n",
              "\n",
              "    .dataframe tbody tr th {\n",
              "        vertical-align: top;\n",
              "    }\n",
              "\n",
              "    .dataframe thead th {\n",
              "        text-align: right;\n",
              "    }\n",
              "</style>\n",
              "<table border=\"1\" class=\"dataframe\">\n",
              "  <thead>\n",
              "    <tr style=\"text-align: right;\">\n",
              "      <th></th>\n",
              "      <th>ImageId</th>\n",
              "      <th>ClassName</th>\n",
              "    </tr>\n",
              "  </thead>\n",
              "  <tbody>\n",
              "    <tr>\n",
              "      <th>426</th>\n",
              "      <td>953395f7bf.jpg</td>\n",
              "      <td>28</td>\n",
              "    </tr>\n",
              "    <tr>\n",
              "      <th>5875</th>\n",
              "      <td>922cec919a.jpg</td>\n",
              "      <td>54</td>\n",
              "    </tr>\n",
              "    <tr>\n",
              "      <th>6801</th>\n",
              "      <td>5bd4c627f0.jpg</td>\n",
              "      <td>59</td>\n",
              "    </tr>\n",
              "    <tr>\n",
              "      <th>5039</th>\n",
              "      <td>1f999a132b.jpg</td>\n",
              "      <td>20</td>\n",
              "    </tr>\n",
              "    <tr>\n",
              "      <th>6955</th>\n",
              "      <td>b3750e65a0.jpg</td>\n",
              "      <td>43</td>\n",
              "    </tr>\n",
              "  </tbody>\n",
              "</table>\n",
              "</div>"
            ],
            "text/plain": [
              "             ImageId  ClassName\n",
              "426   953395f7bf.jpg         28\n",
              "5875  922cec919a.jpg         54\n",
              "6801  5bd4c627f0.jpg         59\n",
              "5039  1f999a132b.jpg         20\n",
              "6955  b3750e65a0.jpg         43"
            ]
          },
          "metadata": {
            "tags": []
          },
          "execution_count": 20
        }
      ]
    },
    {
      "cell_type": "markdown",
      "metadata": {
        "id": "nLvR4PONPsRY"
      },
      "source": [
        "DATALOADER"
      ]
    },
    {
      "cell_type": "code",
      "metadata": {
        "id": "WiXIqRyfKdHr"
      },
      "source": [
        "train_img_lst , train_img_labels ,test_imgs = [],[],[]\n",
        "for i in range(len(ntrain.to_numpy()) ) :\n",
        "  train_img_lst.append('data/train/train_images/' + ntrain['ImageId'][i])\n",
        "  train_img_labels.append(ntrain['ClassName'][i])\n",
        "\n",
        "for i in range(len(test_csv.to_numpy())) :\n",
        "  test_imgs.append('data/test/test_images/'+test_csv['ImageId'][i])"
      ],
      "execution_count": null,
      "outputs": []
    },
    {
      "cell_type": "code",
      "metadata": {
        "colab": {
          "base_uri": "https://localhost:8080/",
          "height": 35
        },
        "id": "j2ferE7kLVXz",
        "outputId": "25b77ee3-e9ce-453f-ecec-985d5ec691f0"
      },
      "source": [
        "train_img_lst[0]"
      ],
      "execution_count": null,
      "outputs": [
        {
          "output_type": "execute_result",
          "data": {
            "application/vnd.google.colaboratory.intrinsic+json": {
              "type": "string"
            },
            "text/plain": [
              "'data/train/train_images/f27632d7e5.jpg'"
            ]
          },
          "metadata": {
            "tags": []
          },
          "execution_count": 22
        }
      ]
    },
    {
      "cell_type": "code",
      "metadata": {
        "colab": {
          "base_uri": "https://localhost:8080/"
        },
        "id": "FINVRBEnNblg",
        "outputId": "367233c7-cb9b-4a93-ff4d-94683ad93647"
      },
      "source": [
        "train_img_labels[0]"
      ],
      "execution_count": null,
      "outputs": [
        {
          "output_type": "execute_result",
          "data": {
            "text/plain": [
              "55"
            ]
          },
          "metadata": {
            "tags": []
          },
          "execution_count": 23
        }
      ]
    },
    {
      "cell_type": "code",
      "metadata": {
        "colab": {
          "base_uri": "https://localhost:8080/",
          "height": 35
        },
        "id": "ZXe2aWVtOs6i",
        "outputId": "77f7df61-b9b2-4302-af69-90de73377eb3"
      },
      "source": [
        "test_imgs[0]"
      ],
      "execution_count": null,
      "outputs": [
        {
          "output_type": "execute_result",
          "data": {
            "application/vnd.google.colaboratory.intrinsic+json": {
              "type": "string"
            },
            "text/plain": [
              "'data/test/test_images/90e63a2fde.jpg'"
            ]
          },
          "metadata": {
            "tags": []
          },
          "execution_count": 24
        }
      ]
    },
    {
      "cell_type": "markdown",
      "metadata": {
        "id": "Db47u7YVQFLX"
      },
      "source": [
        "Reading images and resizing into 224,224"
      ]
    },
    {
      "cell_type": "code",
      "metadata": {
        "id": "gjHi0lTWQH8N"
      },
      "source": [
        "import cv2\n",
        "def img_read(img_path_list):\n",
        "    resize_img_list = []\n",
        "    for img_path in img_path_list:\n",
        "        img = cv2.imread(img_path)\n",
        "        img = cv2.resize(img, (224, 224))\n",
        "        resize_img_list.append(img)\n",
        "    return np.array(resize_img_list)"
      ],
      "execution_count": null,
      "outputs": []
    },
    {
      "cell_type": "code",
      "metadata": {
        "id": "bB6iWV8JQXQy"
      },
      "source": [
        "X_train = img_read(train_img_lst)\n",
        "X_test = img_read(test_imgs)"
      ],
      "execution_count": null,
      "outputs": []
    },
    {
      "cell_type": "code",
      "metadata": {
        "id": "e9blaDBvRDCu"
      },
      "source": [
        "y_train = np.array(train_img_labels)"
      ],
      "execution_count": null,
      "outputs": []
    },
    {
      "cell_type": "code",
      "metadata": {
        "colab": {
          "base_uri": "https://localhost:8080/"
        },
        "id": "mh6-Y39_Q8Zp",
        "outputId": "b361bafe-5868-49a5-e26f-276250530f4a"
      },
      "source": [
        "X_train.shape"
      ],
      "execution_count": null,
      "outputs": [
        {
          "output_type": "execute_result",
          "data": {
            "text/plain": [
              "(9323, 224, 224, 3)"
            ]
          },
          "metadata": {
            "tags": []
          },
          "execution_count": 28
        }
      ]
    },
    {
      "cell_type": "code",
      "metadata": {
        "colab": {
          "base_uri": "https://localhost:8080/"
        },
        "id": "azy0RBW8Q_No",
        "outputId": "e560bd1a-1e5e-4455-f56b-fda8c1eeb81e"
      },
      "source": [
        "X_test.shape"
      ],
      "execution_count": null,
      "outputs": [
        {
          "output_type": "execute_result",
          "data": {
            "text/plain": [
              "(484, 224, 224, 3)"
            ]
          },
          "metadata": {
            "tags": []
          },
          "execution_count": 29
        }
      ]
    },
    {
      "cell_type": "code",
      "metadata": {
        "colab": {
          "base_uri": "https://localhost:8080/"
        },
        "id": "OSPIvOxtRK3Y",
        "outputId": "37e2b8d9-aaa1-48ee-cbd2-d9d61dc930bc"
      },
      "source": [
        "y_train.shape"
      ],
      "execution_count": null,
      "outputs": [
        {
          "output_type": "execute_result",
          "data": {
            "text/plain": [
              "(9323,)"
            ]
          },
          "metadata": {
            "tags": []
          },
          "execution_count": 30
        }
      ]
    },
    {
      "cell_type": "markdown",
      "metadata": {
        "id": "XBTlVbpYTDMU"
      },
      "source": [
        "### Plot Samples"
      ]
    },
    {
      "cell_type": "code",
      "metadata": {
        "id": "fZuKh_hFTFm8"
      },
      "source": [
        "def plot_sample(X, y, index):\n",
        "    plt.figure(figsize = (15,2))\n",
        "    plt.imshow(X[index])\n",
        "    lbl = le.inverse_transform([y[index]])\n",
        "    plt.xlabel(lbl[0])"
      ],
      "execution_count": null,
      "outputs": []
    },
    {
      "cell_type": "code",
      "metadata": {
        "colab": {
          "base_uri": "https://localhost:8080/",
          "height": 174
        },
        "id": "WfHqJYvzTQY1",
        "outputId": "3e2d4c15-e56e-424e-c56d-30c156132095"
      },
      "source": [
        "plot_sample(X_train , y_train , 1)"
      ],
      "execution_count": null,
      "outputs": [
        {
          "output_type": "display_data",
          "data": {
            "image/png": "[encoded data removed]",
            "text/plain": [
              "<Figure size 1080x144 with 1 Axes>"
            ]
          },
          "metadata": {
            "tags": [],
            "needs_background": "light"
          }
        }
      ]
    },
    {
      "cell_type": "markdown",
      "metadata": {
        "id": "5nEiazw5cSGR"
      },
      "source": [
        "### Pre-trained model EfficientNetB0"
      ]
    },
    {
      "cell_type": "code",
      "metadata": {
        "id": "rMwWVsCYcY51"
      },
      "source": [
        "from tensorflow.keras.layers.experimental import preprocessing\n",
        "from tensorflow.keras.models import Sequential\n",
        "from tensorflow.keras import layers\n",
        "\n",
        "img_augmentation = Sequential(\n",
        "    [\n",
        "        preprocessing.RandomRotation(factor=0.15),\n",
        "        preprocessing.RandomTranslation(height_factor=0.1, width_factor=0.1),\n",
        "        preprocessing.RandomFlip(),\n",
        "        preprocessing.RandomContrast(factor=0.1),\n",
        "    ],\n",
        "    name=\"img_augmentation\",\n",
        ")"
      ],
      "execution_count": null,
      "outputs": []
    },
    {
      "cell_type": "code",
      "metadata": {
        "colab": {
          "base_uri": "https://localhost:8080/"
        },
        "id": "thAMMtHWda8J",
        "outputId": "faa6b697-24a9-4f5b-de5f-799353e98a49"
      },
      "source": [
        "INPUT_SIZE = 224,224,3\n",
        "from tensorflow.keras.applications import EfficientNetB0\n",
        "x = img_augmentation(layers.Input(shape=INPUT_SIZE))\n",
        "outputs = EfficientNetB0(include_top=True, weights=None, classes=61)(x)\n",
        "model = tf.keras.Model(inputs, outputs)\n",
        "model.compile(optimizer=\"adam\", loss=\"sparse_categorical_crossentropy\", metrics=[\"accuracy\"])\n",
        "model.summary()"
      ],
      "execution_count": null,
      "outputs": [
        {
          "output_type": "stream",
          "text": [
            "Model: \"model\"\n",
            "_________________________________________________________________\n",
            "Layer (type)                 Output Shape              Param #   \n",
            "=================================================================\n",
            "input_1 (InputLayer)         [(None, 224, 224, 3)]     0         \n",
            "_________________________________________________________________\n",
            "img_augmentation (Sequential (None, 224, 224, 3)       0         \n",
            "_________________________________________________________________\n",
            "efficientnetb0 (Functional)  (None, 61)                4127712   \n",
            "=================================================================\n",
            "Total params: 4,127,712\n",
            "Trainable params: 4,085,689\n",
            "Non-trainable params: 42,023\n",
            "_________________________________________________________________\n"
          ],
          "name": "stdout"
        }
      ]
    },
    {
      "cell_type": "code",
      "metadata": {
        "scrolled": true,
        "id": "hzueY1gf5kpR",
        "outputId": "9ed2198f-c515-4865-83ab-049fe1a27591"
      },
      "source": [
        "history = model.fit(X_train , y_train , epochs=1)"
      ],
      "execution_count": null,
      "outputs": [
        {
          "output_type": "stream",
          "text": [
            "Epoch 1/12\n",
            "292/292 [==============================] - 535s 2s/step - loss: 4.0463 - accuracy: 0.1257\n",
            "Epoch 2/12\n",
            "292/292 [==============================] - 543s 2s/step - loss: 3.1974 - accuracy: 0.2083\n",
            "Epoch 3/12\n",
            "292/292 [==============================] - 539s 2s/step - loss: 2.9008 - accuracy: 0.2567\n",
            "Epoch 4/12\n",
            "292/292 [==============================] - 513s 2s/step - loss: 2.7180 - accuracy: 0.2856\n",
            "Epoch 5/12\n",
            "292/292 [==============================] - 493s 2s/step - loss: 2.5744 - accuracy: 0.3095\n",
            "Epoch 6/12\n",
            "292/292 [==============================] - 483s 2s/step - loss: 2.4048 - accuracy: 0.3511\n",
            "Epoch 7/12\n",
            "292/292 [==============================] - 480s 2s/step - loss: 2.2684 - accuracy: 0.3745\n",
            "Epoch 8/12\n",
            "292/292 [==============================] - 479s 2s/step - loss: 2.1048 - accuracy: 0.4142\n",
            "Epoch 9/12\n",
            "292/292 [==============================] - 481s 2s/step - loss: 1.8138 - accuracy: 0.4771\n",
            "Epoch 10/12\n",
            "292/292 [==============================] - 578s 2s/step - loss: 1.6326 - accuracy: 0.5225\n",
            "Epoch 11/12\n",
            "292/292 [==============================] - 633s 2s/step - loss: 1.4047 - accuracy: 0.5790\n",
            "Epoch 12/12\n",
            "292/292 [==============================] - 622s 2s/step - loss: 1.0751 - accuracy: 0.6793\n"
          ],
          "name": "stdout"
        },
        {
          "output_type": "execute_result",
          "data": {
            "text/plain": [
              "<tensorflow.python.keras.callbacks.History at 0x225669fd6d0>"
            ]
          },
          "metadata": {
            "tags": []
          },
          "execution_count": 11
        }
      ]
    },
    {
      "cell_type": "markdown",
      "metadata": {
        "id": "1GlsSbqXCLeR"
      },
      "source": [
        "#### Plotting Epoch vs Accuracy graph"
      ]
    },
    {
      "cell_type": "code",
      "metadata": {
        "colab": {
          "base_uri": "https://localhost:8080/",
          "height": 300
        },
        "id": "-TBLa6Awf_RR",
        "outputId": "6a0d44a2-d509-4add-ec34-a6c0c6f4c69f"
      },
      "source": [
        "import matplotlib.pyplot as plt\n",
        "plt.plot(history.history['accuracy'], label='accuracy')\n",
        "plt.xlabel('Epoch')\n",
        "plt.ylabel('Accuracy')\n",
        "plt.ylim([0.1, 1])\n",
        "plt.legend(loc='upper left')"
      ],
      "execution_count": null,
      "outputs": [
        {
          "output_type": "execute_result",
          "data": {
            "text/plain": [
              "<matplotlib.legend.Legend at 0x7f95032d3210>"
            ]
          },
          "metadata": {
            "tags": []
          },
          "execution_count": 97
        },
        {
          "output_type": "display_data",
          "data": {
            "image/png": "[encoded data removed]",
            "text/plain": [
              "<Figure size 432x288 with 1 Axes>"
            ]
          },
          "metadata": {
            "tags": [],
            "needs_background": "light"
          }
        }
      ]
    },
    {
      "cell_type": "code",
      "metadata": {
        "id": "0qhCA9262Bj5"
      },
      "source": [
        "y_pred = model.predict(X_test)"
      ],
      "execution_count": null,
      "outputs": []
    },
    {
      "cell_type": "code",
      "metadata": {
        "id": "l2AZ5IE02ObX"
      },
      "source": [
        "y_classes = [np.argmax(element) for element in y_pred_pooling]"
      ],
      "execution_count": null,
      "outputs": []
    },
    {
      "cell_type": "markdown",
      "metadata": {
        "id": "npJnPyPm2YLL"
      },
      "source": [
        "#### Plotting predicted Label for test image 55"
      ]
    },
    {
      "cell_type": "code",
      "metadata": {
        "colab": {
          "base_uri": "https://localhost:8080/",
          "height": 174
        },
        "id": "03Uo2IFvAgIZ",
        "outputId": "2a49f6f5-5bf7-4044-f43e-1be57de643bf"
      },
      "source": [
        "plot_sample(X_test , y_classes_sgd , 55)"
      ],
      "execution_count": null,
      "outputs": [
        {
          "output_type": "display_data",
          "data": {
            "image/png": "[encoded data removed]",
            "text/plain": [
              "<Figure size 1080x144 with 1 Axes>"
            ]
          },
          "metadata": {
            "tags": [],
            "needs_background": "light"
          }
        }
      ]
    },
    {
      "cell_type": "markdown",
      "metadata": {
        "id": "_ZDqYyjxCan8"
      },
      "source": [
        "#### Creating submission.csv from Predicted y from X_test"
      ]
    },
    {
      "cell_type": "code",
      "metadata": {
        "id": "LAQAcTyN02d-"
      },
      "source": [
        "df = pd.DataFrame(le.inverse_transform(y_classes_pooling),columns=['ClassName'])\n",
        "df.to_csv('submission.csv',index=False)"
      ],
      "execution_count": null,
      "outputs": []
    },
    {
      "cell_type": "markdown",
      "metadata": {
        "id": "W9mXoxPRCkM5"
      },
      "source": [
        "#### Code for downloading the submission.csv"
      ]
    },
    {
      "cell_type": "code",
      "metadata": {
        "id": "0T4YEuGEiUyt"
      },
      "source": [
        "from google.colab import files\n",
        "files.download('submission.csv')"
      ],
      "execution_count": null,
      "outputs": []
    },
    {
      "cell_type": "markdown",
      "metadata": {
        "id": "5IX79Ffa_5Te"
      },
      "source": [
        "## Making Direct Submission thought Aicrowd CLI"
      ]
    },
    {
      "cell_type": "code",
      "metadata": {
        "colab": {
          "base_uri": "https://localhost:8080/"
        },
        "id": "-j1W9w4t_5Te",
        "outputId": "2c67d209-b70e-4473-adef-9cf4af5a3924"
      },
      "source": [
        "!aicrowd submission create -c chunin-exams-food-track-cv-2021 -f submission.csv"
      ],
      "execution_count": null,
      "outputs": [
        {
          "output_type": "stream",
          "text": [
            "\u001b[2K\u001b[1;34msubmission.csv\u001b[0m \u001b[90m━━━━━━━━━━━━━━━━━━━━━━━━━━━━━━━\u001b[0m \u001b[35m100.0%\u001b[0m • \u001b[32m7.7/6.1 KB\u001b[0m • \u001b[31m?\u001b[0m • \u001b[36m0:00:00\u001b[0m\n",
            "\u001b[?25h                                               ╭─────────────────────────╮                                               \n",
            "                                               │ \u001b[1mSuccessfully submitted!\u001b[0m │                                               \n",
            "                                               ╰─────────────────────────╯                                               \n",
            "\u001b[3m                                                     Important links                                                     \u001b[0m\n",
            "┌──────────────────┬────────────────────────────────────────────────────────────────────────────────────────────────────┐\n",
            "│  This submission │ https://www.aicrowd.com/challenges/chunin-exams-food-track-cv-2021/submissions/131078              │\n",
            "│                  │                                                                                                    │\n",
            "│  All submissions │ https://www.aicrowd.com/challenges/chunin-exams-food-track-cv-2021/submissions?my_submissions=true │\n",
            "│                  │                                                                                                    │\n",
            "│      Leaderboard │ https://www.aicrowd.com/challenges/chunin-exams-food-track-cv-2021/leaderboards                    │\n",
            "│                  │                                                                                                    │\n",
            "│ Discussion forum │ https://discourse.aicrowd.com/c/chunin-exams-food-track-cv-2021                                    │\n",
            "│                  │                                                                                                    │\n",
            "│   Challenge page │ https://www.aicrowd.com/challenges/chunin-exams-food-track-cv-2021                                 │\n",
            "└──────────────────┴────────────────────────────────────────────────────────────────────────────────────────────────────┘\n",
            "{'submission_id': 131078, 'created_at': '2021-04-18T10:26:01.571Z'}\n"
          ],
          "name": "stdout"
        }
      ]
    }
  ]
}